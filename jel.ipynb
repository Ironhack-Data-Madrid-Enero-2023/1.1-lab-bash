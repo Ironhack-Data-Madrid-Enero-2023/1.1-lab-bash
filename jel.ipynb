{
 "cells": [
  {
   "cell_type": "code",
   "execution_count": 2,
   "id": "29d7257c",
   "metadata": {},
   "outputs": [
    {
     "ename": "SyntaxError",
     "evalue": "invalid syntax (2304595451.py, line 1)",
     "output_type": "error",
     "traceback": [
      "\u001b[1;36m  File \u001b[1;32m\"C:\\Users\\jelsa\\AppData\\Local\\Temp\\ipykernel_10700\\2304595451.py\"\u001b[1;36m, line \u001b[1;32m1\u001b[0m\n\u001b[1;33m    Imprime en consola Hello World\u001b[0m\n\u001b[1;37m            ^\u001b[0m\n\u001b[1;31mSyntaxError\u001b[0m\u001b[1;31m:\u001b[0m invalid syntax\n"
     ]
    }
   ],
   "source": [
    "Imprime en consola Hello World\n"
   ]
  },
  {
   "cell_type": "code",
   "execution_count": null,
   "id": "3e65ed63",
   "metadata": {},
   "outputs": [],
   "source": [
    "echo hello world"
   ]
  },
  {
   "cell_type": "code",
   "execution_count": null,
   "id": "8f59ab25",
   "metadata": {},
   "outputs": [],
   "source": [
    "Crea un directorio nuevo llamado new_dir"
   ]
  },
  {
   "cell_type": "code",
   "execution_count": null,
   "id": "8b7d706d",
   "metadata": {},
   "outputs": [],
   "source": [
    "mkdir new_dir"
   ]
  },
  {
   "cell_type": "code",
   "execution_count": null,
   "id": "8b57d22b",
   "metadata": {},
   "outputs": [],
   "source": [
    "Elimina ese directorio."
   ]
  },
  {
   "cell_type": "code",
   "execution_count": null,
   "id": "fee519e2",
   "metadata": {},
   "outputs": [],
   "source": [
    "rm -r new_dir"
   ]
  },
  {
   "cell_type": "code",
   "execution_count": null,
   "id": "4440f678",
   "metadata": {},
   "outputs": [],
   "source": [
    "Copia el archivo sed.txt dentro de la carpeta lorem a la carpeta lorem-copy. TIP: Puede ser necesario crear la carpeta lorem-copy primero."
   ]
  },
  {
   "cell_type": "code",
   "execution_count": null,
   "id": "a133d763",
   "metadata": {},
   "outputs": [],
   "source": [
    "mkdir lorem-copy"
   ]
  },
  {
   "cell_type": "code",
   "execution_count": null,
   "id": "1af75635",
   "metadata": {},
   "outputs": [],
   "source": [
    "Copia los otros dos archivos de la carpeta lorem a la carpeta lorem-copy en una sola línea"
   ]
  },
  {
   "cell_type": "code",
   "execution_count": null,
   "id": "7bd9c136",
   "metadata": {},
   "outputs": [],
   "source": [
    "cp sed.txt ../lorem-copy"
   ]
  },
  {
   "cell_type": "code",
   "execution_count": null,
   "id": "a78d91cd",
   "metadata": {},
   "outputs": [],
   "source": [
    "Muestra el contenido de los archivos at.txt y lorem.txt dentro de la carpeta lorem."
   ]
  },
  {
   "cell_type": "code",
   "execution_count": null,
   "id": "a2948ae6",
   "metadata": {},
   "outputs": [],
   "source": [
    "\n",
    "cp at.txt ../lorem-copy"
   ]
  },
  {
   "cell_type": "code",
   "execution_count": null,
   "id": "65dd327c",
   "metadata": {},
   "outputs": [],
   "source": [
    "Muestra el contenido del archivo sed.txt dentro de la carpeta lorem"
   ]
  },
  {
   "cell_type": "code",
   "execution_count": null,
   "id": "f3efda86",
   "metadata": {},
   "outputs": [],
   "source": [
    "cat sed.txt"
   ]
  },
  {
   "cell_type": "code",
   "execution_count": null,
   "id": "1ab18d23",
   "metadata": {},
   "outputs": [],
   "source": [
    "Muestra el contenido de los archivos at.txt y lorem.txt dentro de la carpeta lorem."
   ]
  },
  {
   "cell_type": "code",
   "execution_count": null,
   "id": "06349fc1",
   "metadata": {},
   "outputs": [],
   "source": [
    "cat at.txt  cat lorem.txt\n",
    "\n"
   ]
  },
  {
   "cell_type": "code",
   "execution_count": null,
   "id": "8f8ba4e0",
   "metadata": {},
   "outputs": [],
   "source": [
    "Visualiza las primeras 3 líneas del archivo sed.txt dentro de la carpeta lorem-copy"
   ]
  },
  {
   "cell_type": "code",
   "execution_count": null,
   "id": "e6a8153d",
   "metadata": {},
   "outputs": [],
   "source": [
    "\n",
    "head sed.txt -n3 "
   ]
  },
  {
   "cell_type": "code",
   "execution_count": null,
   "id": "1249ff07",
   "metadata": {},
   "outputs": [],
   "source": [
    "Visualiza las últimas 3 líneas del archivo sed.txt dentro de la carpeta lorem-copy. Deberías ver ahora Homo homini lupus.."
   ]
  },
  {
   "cell_type": "code",
   "execution_count": null,
   "id": "f168387f",
   "metadata": {},
   "outputs": [],
   "source": [
    "tail -n3 sed.txt"
   ]
  },
  {
   "cell_type": "code",
   "execution_count": null,
   "id": "a0220546",
   "metadata": {},
   "outputs": [],
   "source": [
    "Añade Homo homini lupus. al final de archivo sed.txt dentro de la carpeta lorem-copy"
   ]
  },
  {
   "cell_type": "code",
   "execution_count": null,
   "id": "3a03bcb6",
   "metadata": {},
   "outputs": [],
   "source": [
    "cd lorem-copy\n",
    "sed.txt\n",
    "echo homo homini lupus"
   ]
  },
  {
   "cell_type": "code",
   "execution_count": null,
   "id": "09c8a308",
   "metadata": {},
   "outputs": [],
   "source": [
    "Visualiza las últimas 3 líneas del archivo sed.txt dentro de la carpeta lorem-copy. Deberías ver ahora Homo homini lupus."
   ]
  },
  {
   "cell_type": "code",
   "execution_count": 5,
   "id": "30a6ee41",
   "metadata": {},
   "outputs": [
    {
     "ename": "SyntaxError",
     "evalue": "invalid syntax (2932991610.py, line 1)",
     "output_type": "error",
     "traceback": [
      "\u001b[1;36m  File \u001b[1;32m\"C:\\Users\\jelsa\\AppData\\Local\\Temp\\ipykernel_10700\\2932991610.py\"\u001b[1;36m, line \u001b[1;32m1\u001b[0m\n\u001b[1;33m    tail -n 3 sed.txt\u001b[0m\n\u001b[1;37m            ^\u001b[0m\n\u001b[1;31mSyntaxError\u001b[0m\u001b[1;31m:\u001b[0m invalid syntax\n"
     ]
    }
   ],
   "source": [
    "tail -n 3 sed.txt"
   ]
  },
  {
   "cell_type": "code",
   "execution_count": 4,
   "id": "4452aa45",
   "metadata": {},
   "outputs": [
    {
     "ename": "SyntaxError",
     "evalue": "invalid syntax (4249016168.py, line 1)",
     "output_type": "error",
     "traceback": [
      "\u001b[1;36m  File \u001b[1;32m\"C:\\Users\\jelsa\\AppData\\Local\\Temp\\ipykernel_10700\\4249016168.py\"\u001b[1;36m, line \u001b[1;32m1\u001b[0m\n\u001b[1;33m    Sustituye todas las apariciones de et por ET del archivo at.txt dentro de la carpeta lorem-copy. Deberás usar sed.\u001b[0m\n\u001b[1;37m              ^\u001b[0m\n\u001b[1;31mSyntaxError\u001b[0m\u001b[1;31m:\u001b[0m invalid syntax\n"
     ]
    }
   ],
   "source": [
    "Sustituye todas las apariciones de et por ET del archivo at.txt dentro de la carpeta lorem-copy. Deberás usar sed."
   ]
  },
  {
   "cell_type": "code",
   "execution_count": null,
   "id": "b5f06d77",
   "metadata": {},
   "outputs": [],
   "source": [
    " sed s/et/ET/g"
   ]
  },
  {
   "cell_type": "code",
   "execution_count": null,
   "id": "414d4e20",
   "metadata": {},
   "outputs": [],
   "source": [
    "Encuentra al usuario activo en el sistema"
   ]
  },
  {
   "cell_type": "code",
   "execution_count": null,
   "id": "c46574ab",
   "metadata": {},
   "outputs": [],
   "source": [
    "who"
   ]
  },
  {
   "cell_type": "code",
   "execution_count": null,
   "id": "d801f12d",
   "metadata": {},
   "outputs": [],
   "source": [
    "Encuentra dónde estás en tu sistema de ficheros."
   ]
  },
  {
   "cell_type": "code",
   "execution_count": null,
   "id": "bed20675",
   "metadata": {},
   "outputs": [],
   "source": [
    "pwd"
   ]
  },
  {
   "cell_type": "code",
   "execution_count": null,
   "id": "87293e33",
   "metadata": {},
   "outputs": [],
   "source": [
    "Lista los archivos que terminan por .txt en la carpeta lorem."
   ]
  },
  {
   "cell_type": "code",
   "execution_count": null,
   "id": "c19b9d2e",
   "metadata": {},
   "outputs": [],
   "source": [
    "ls "
   ]
  },
  {
   "cell_type": "code",
   "execution_count": null,
   "id": "eb00b4eb",
   "metadata": {},
   "outputs": [],
   "source": [
    "Cuenta el número de líneas que tiene el archivo sed.txt dentro de la carpeta lorem."
   ]
  },
  {
   "cell_type": "code",
   "execution_count": null,
   "id": "9d855267",
   "metadata": {},
   "outputs": [],
   "source": [
    "\"wc-l\""
   ]
  },
  {
   "cell_type": "code",
   "execution_count": null,
   "id": "fc3406a4",
   "metadata": {},
   "outputs": [],
   "source": [
    "Cuenta el número de archivos que empiezan por lorem que están en este directorio y en directorios internos."
   ]
  },
  {
   "cell_type": "code",
   "execution_count": null,
   "id": "d0e1aacb",
   "metadata": {},
   "outputs": [],
   "source": [
    "\"ls|wc-l\""
   ]
  },
  {
   "cell_type": "code",
   "execution_count": null,
   "id": "edbd1311",
   "metadata": {},
   "outputs": [],
   "source": [
    "Encuentra todas las apariciones de et en at.txt dentro de la carpeta lorem."
   ]
  },
  {
   "cell_type": "code",
   "execution_count": null,
   "id": "64b27132",
   "metadata": {},
   "outputs": [],
   "source": []
  },
  {
   "cell_type": "code",
   "execution_count": null,
   "id": "12ef19e3",
   "metadata": {},
   "outputs": [],
   "source": []
  },
  {
   "cell_type": "code",
   "execution_count": null,
   "id": "8969d57d",
   "metadata": {},
   "outputs": [],
   "source": []
  },
  {
   "cell_type": "code",
   "execution_count": null,
   "id": "d319722f",
   "metadata": {},
   "outputs": [],
   "source": []
  }
 ],
 "metadata": {
  "kernelspec": {
   "display_name": "Python 3 (ipykernel)",
   "language": "python",
   "name": "python3"
  },
  "language_info": {
   "codemirror_mode": {
    "name": "ipython",
    "version": 3
   },
   "file_extension": ".py",
   "mimetype": "text/x-python",
   "name": "python",
   "nbconvert_exporter": "python",
   "pygments_lexer": "ipython3",
   "version": "3.9.13"
  }
 },
 "nbformat": 4,
 "nbformat_minor": 5
}
