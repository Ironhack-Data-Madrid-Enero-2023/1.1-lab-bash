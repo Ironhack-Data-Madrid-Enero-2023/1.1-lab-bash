{
 "cells": [
  {
   "cell_type": "code",
   "execution_count": null,
   "id": "43078d7e",
   "metadata": {},
   "outputs": [],
   "source": [
    "Imprime en consola Hello World."
   ]
  },
  {
   "cell_type": "code",
   "execution_count": null,
   "id": "6f343303",
   "metadata": {},
   "outputs": [],
   "source": [
    "echo Hello world!"
   ]
  },
  {
   "cell_type": "code",
   "execution_count": null,
   "id": "b0f7d093",
   "metadata": {},
   "outputs": [],
   "source": []
  },
  {
   "cell_type": "code",
   "execution_count": null,
   "id": "bc3396cf",
   "metadata": {},
   "outputs": [],
   "source": [
    "Crea un directorio nuevo llamado new_dir."
   ]
  },
  {
   "cell_type": "code",
   "execution_count": null,
   "id": "762de627",
   "metadata": {},
   "outputs": [],
   "source": [
    "mkdir new_dir"
   ]
  },
  {
   "cell_type": "code",
   "execution_count": null,
   "id": "44dc3c75",
   "metadata": {},
   "outputs": [],
   "source": []
  },
  {
   "cell_type": "code",
   "execution_count": null,
   "id": "88d2759b",
   "metadata": {},
   "outputs": [],
   "source": [
    "Elimina ese directorio."
   ]
  },
  {
   "cell_type": "code",
   "execution_count": null,
   "id": "d263c134",
   "metadata": {},
   "outputs": [],
   "source": [
    "rm -r new_dir"
   ]
  },
  {
   "cell_type": "code",
   "execution_count": null,
   "id": "dd309643",
   "metadata": {},
   "outputs": [],
   "source": []
  },
  {
   "cell_type": "code",
   "execution_count": null,
   "id": "ce30aaf5",
   "metadata": {},
   "outputs": [],
   "source": [
    "Copia el archivo sed.txt dentro de la carpeta lorem a la carpeta lorem-copy. TIP: Puede ser necesario crear la carpeta lorem-copy primero"
   ]
  },
  {
   "cell_type": "code",
   "execution_count": null,
   "id": "265218b1",
   "metadata": {},
   "outputs": [],
   "source": [
    "cp lorem/sed.txt lorem-copy"
   ]
  },
  {
   "cell_type": "code",
   "execution_count": null,
   "id": "1cfe6225",
   "metadata": {},
   "outputs": [],
   "source": []
  },
  {
   "cell_type": "code",
   "execution_count": null,
   "id": "0def9be7",
   "metadata": {},
   "outputs": [],
   "source": [
    "Copia los otros dos archivos de la carpeta lorem a la carpeta lorem-copy en una sola línea."
   ]
  },
  {
   "cell_type": "code",
   "execution_count": null,
   "id": "bbd3b2f3",
   "metadata": {},
   "outputs": [],
   "source": [
    "cp lorem/at.txt lorem/sed.txt lorem-copy/"
   ]
  },
  {
   "cell_type": "code",
   "execution_count": null,
   "id": "a64192f6",
   "metadata": {},
   "outputs": [],
   "source": []
  },
  {
   "cell_type": "code",
   "execution_count": null,
   "id": "7f7b27dc",
   "metadata": {},
   "outputs": [],
   "source": [
    "Muestra el contenido del archivo sed.txt dentro de la carpeta lorem"
   ]
  },
  {
   "cell_type": "code",
   "execution_count": null,
   "id": "b5b08188",
   "metadata": {},
   "outputs": [],
   "source": [
    "cat sed.txt"
   ]
  },
  {
   "cell_type": "code",
   "execution_count": null,
   "id": "a7d93ad0",
   "metadata": {},
   "outputs": [],
   "source": []
  },
  {
   "cell_type": "code",
   "execution_count": null,
   "id": "3703b75f",
   "metadata": {},
   "outputs": [],
   "source": [
    "Muestra el contenido de los archivos at.txt y lorem.txt dentro de la carpeta lorem."
   ]
  },
  {
   "cell_type": "code",
   "execution_count": null,
   "id": "af795965",
   "metadata": {},
   "outputs": [],
   "source": [
    "cat at.txt lorem.txt"
   ]
  },
  {
   "cell_type": "code",
   "execution_count": null,
   "id": "2fab35bf",
   "metadata": {},
   "outputs": [],
   "source": []
  },
  {
   "cell_type": "code",
   "execution_count": null,
   "id": "5a4347ae",
   "metadata": {},
   "outputs": [],
   "source": [
    "Visualiza las primeras 3 líneas del archivo sed.txt dentro de la carpeta lorem-copy"
   ]
  },
  {
   "cell_type": "code",
   "execution_count": null,
   "id": "c55298c9",
   "metadata": {},
   "outputs": [],
   "source": [
    "head -n3 sed.txt"
   ]
  },
  {
   "cell_type": "code",
   "execution_count": null,
   "id": "a38406f8",
   "metadata": {},
   "outputs": [],
   "source": []
  },
  {
   "cell_type": "code",
   "execution_count": null,
   "id": "da530001",
   "metadata": {},
   "outputs": [],
   "source": [
    "Visualiza las ultimas 3 líneas del archivo sed.txt dentro de la carpeta lorem-copy"
   ]
  },
  {
   "cell_type": "code",
   "execution_count": null,
   "id": "4bd9dad3",
   "metadata": {},
   "outputs": [],
   "source": [
    "tail -n3 sed.txt"
   ]
  },
  {
   "cell_type": "code",
   "execution_count": null,
   "id": "e0c65b4e",
   "metadata": {},
   "outputs": [],
   "source": []
  },
  {
   "cell_type": "code",
   "execution_count": null,
   "id": "ff463481",
   "metadata": {},
   "outputs": [],
   "source": [
    "Añade Homo homini lupus. al final de archivo sed.txt dentro de la carpeta lorem-copy."
   ]
  },
  {
   "cell_type": "code",
   "execution_count": null,
   "id": "f59d9300",
   "metadata": {},
   "outputs": [],
   "source": [
    "echo \"Homo homini lupus\" >> lorem-copy/sed.txt"
   ]
  },
  {
   "cell_type": "code",
   "execution_count": null,
   "id": "7e8adc6f",
   "metadata": {},
   "outputs": [],
   "source": []
  },
  {
   "cell_type": "code",
   "execution_count": null,
   "id": "0eb398ce",
   "metadata": {},
   "outputs": [],
   "source": [
    "Visualiza las últimas 3 líneas del archivo sed.txt dentro de la carpeta lorem-copy. Deberías ver ahora Homo homini lupus.."
   ]
  },
  {
   "cell_type": "code",
   "execution_count": null,
   "id": "0678d127",
   "metadata": {},
   "outputs": [],
   "source": [
    "tail -n3 sed.txt"
   ]
  },
  {
   "cell_type": "code",
   "execution_count": null,
   "id": "befe70e7",
   "metadata": {},
   "outputs": [],
   "source": []
  },
  {
   "cell_type": "code",
   "execution_count": null,
   "id": "3b8374d2",
   "metadata": {},
   "outputs": [],
   "source": [
    "Sustituye todas las apariciones de et por ET del archivo at.txt dentro de la carpeta lorem-copy. Deberás usar sed."
   ]
  },
  {
   "cell_type": "code",
   "execution_count": null,
   "id": "7b931582",
   "metadata": {},
   "outputs": [],
   "source": [
    "sed -i 's/et/ET/g' \"sed.txt\"\n"
   ]
  },
  {
   "cell_type": "code",
   "execution_count": null,
   "id": "79e3a3dd",
   "metadata": {},
   "outputs": [],
   "source": []
  },
  {
   "cell_type": "code",
   "execution_count": null,
   "id": "227534b6",
   "metadata": {},
   "outputs": [],
   "source": [
    "Encuentra al usuario activo en el sistema."
   ]
  },
  {
   "cell_type": "code",
   "execution_count": null,
   "id": "03b5eb92",
   "metadata": {},
   "outputs": [],
   "source": [
    "who"
   ]
  },
  {
   "cell_type": "code",
   "execution_count": null,
   "id": "a77894f1",
   "metadata": {},
   "outputs": [],
   "source": []
  },
  {
   "cell_type": "code",
   "execution_count": null,
   "id": "e7abb228",
   "metadata": {},
   "outputs": [],
   "source": [
    "Encuentra dónde estás en tu sistema de ficheros."
   ]
  },
  {
   "cell_type": "code",
   "execution_count": null,
   "id": "b90e1efb",
   "metadata": {},
   "outputs": [],
   "source": [
    "pwd"
   ]
  },
  {
   "cell_type": "code",
   "execution_count": null,
   "id": "b033affd",
   "metadata": {},
   "outputs": [],
   "source": []
  },
  {
   "cell_type": "code",
   "execution_count": null,
   "id": "abf49a04",
   "metadata": {},
   "outputs": [],
   "source": [
    "Lista los archivos que terminan por .txt en la carpeta lorem."
   ]
  },
  {
   "cell_type": "code",
   "execution_count": null,
   "id": "dce37306",
   "metadata": {},
   "outputs": [],
   "source": [
    "find . \"*txt\""
   ]
  },
  {
   "cell_type": "code",
   "execution_count": null,
   "id": "6d8bf3e4",
   "metadata": {},
   "outputs": [],
   "source": []
  },
  {
   "cell_type": "code",
   "execution_count": null,
   "id": "5582b864",
   "metadata": {},
   "outputs": [],
   "source": [
    "Cuenta el número de líneas que tiene el archivo sed.txt dentro de la carpeta lorem.\n"
   ]
  },
  {
   "cell_type": "code",
   "execution_count": null,
   "id": "be7229de",
   "metadata": {},
   "outputs": [],
   "source": [
    "wc -l sed.txt"
   ]
  },
  {
   "cell_type": "code",
   "execution_count": null,
   "id": "cd1d60c5",
   "metadata": {},
   "outputs": [],
   "source": []
  },
  {
   "cell_type": "code",
   "execution_count": null,
   "id": "60ec2721",
   "metadata": {},
   "outputs": [],
   "source": [
    "Cuenta el número de archivos que empiezan por lorem que están en este directorio y en directorios internos.\n",
    "\n"
   ]
  },
  {
   "cell_type": "code",
   "execution_count": null,
   "id": "14072d35",
   "metadata": {},
   "outputs": [],
   "source": [
    "find . -type f | wc -l"
   ]
  },
  {
   "cell_type": "code",
   "execution_count": null,
   "id": "ce8f5df9",
   "metadata": {},
   "outputs": [],
   "source": []
  },
  {
   "cell_type": "code",
   "execution_count": null,
   "id": "996bd19e",
   "metadata": {},
   "outputs": [],
   "source": [
    "Encuentra todas las apariciones de et en at.txt dentro de la carpeta lorem."
   ]
  },
  {
   "cell_type": "code",
   "execution_count": null,
   "id": "fbe8c8f9",
   "metadata": {},
   "outputs": [],
   "source": [
    "grep -o 'et' lorem/at.txt\n"
   ]
  },
  {
   "cell_type": "code",
   "execution_count": null,
   "id": "e92d0f2f",
   "metadata": {},
   "outputs": [],
   "source": []
  },
  {
   "cell_type": "code",
   "execution_count": null,
   "id": "c2b2d43f",
   "metadata": {},
   "outputs": [],
   "source": [
    "Cuenta el número de apariciones del string et en at.txt dentro de la carpeta lorem."
   ]
  },
  {
   "cell_type": "code",
   "execution_count": null,
   "id": "e1393f41",
   "metadata": {},
   "outputs": [],
   "source": [
    "grep -o 'et' lorem/at.txt | wc -l\n"
   ]
  },
  {
   "cell_type": "code",
   "execution_count": null,
   "id": "b9464c2e",
   "metadata": {},
   "outputs": [],
   "source": []
  },
  {
   "cell_type": "code",
   "execution_count": null,
   "id": "7d110d47",
   "metadata": {},
   "outputs": [],
   "source": [
    "Cuenta el número de apariciones del string et en todos los archivos del directorio lorem-copy."
   ]
  },
  {
   "cell_type": "code",
   "execution_count": null,
   "id": "d5df24fe",
   "metadata": {},
   "outputs": [],
   "source": [
    "grep -r -o \"et\" lorem-copy/ | wc -l\n"
   ]
  },
  {
   "cell_type": "code",
   "execution_count": null,
   "id": "6c2aef58",
   "metadata": {},
   "outputs": [],
   "source": []
  },
  {
   "cell_type": "code",
   "execution_count": null,
   "id": "0b9d5f2b",
   "metadata": {},
   "outputs": [],
   "source": [
    "Almacena en una variable name tu nombre."
   ]
  },
  {
   "cell_type": "code",
   "execution_count": null,
   "id": "96a64ccf",
   "metadata": {},
   "outputs": [],
   "source": [
    "name=Alfonso"
   ]
  },
  {
   "cell_type": "code",
   "execution_count": null,
   "id": "a40895a4",
   "metadata": {},
   "outputs": [],
   "source": []
  },
  {
   "cell_type": "code",
   "execution_count": null,
   "id": "e4820876",
   "metadata": {},
   "outputs": [],
   "source": [
    "Imprime esa variable."
   ]
  },
  {
   "cell_type": "code",
   "execution_count": null,
   "id": "e40c3044",
   "metadata": {},
   "outputs": [],
   "source": [
    "echo $name"
   ]
  },
  {
   "cell_type": "code",
   "execution_count": null,
   "id": "afb12277",
   "metadata": {},
   "outputs": [],
   "source": []
  },
  {
   "cell_type": "code",
   "execution_count": null,
   "id": "09d4eb8d",
   "metadata": {},
   "outputs": [],
   "source": [
    "Crea un directorio nuevo que se llame como el contenido de la variable name."
   ]
  },
  {
   "cell_type": "code",
   "execution_count": null,
   "id": "c43af29a",
   "metadata": {},
   "outputs": [],
   "source": [
    "mkdir $name"
   ]
  },
  {
   "cell_type": "code",
   "execution_count": null,
   "id": "93134a98",
   "metadata": {},
   "outputs": [],
   "source": []
  },
  {
   "cell_type": "code",
   "execution_count": null,
   "id": "64f5b3d7",
   "metadata": {},
   "outputs": [],
   "source": [
    "Elimina ese directorio."
   ]
  },
  {
   "cell_type": "code",
   "execution_count": null,
   "id": "3eaab86a",
   "metadata": {},
   "outputs": [],
   "source": [
    "rm -r $name"
   ]
  },
  {
   "cell_type": "code",
   "execution_count": null,
   "id": "529d0030",
   "metadata": {},
   "outputs": [],
   "source": []
  },
  {
   "cell_type": "code",
   "execution_count": null,
   "id": "459d0be2",
   "metadata": {},
   "outputs": [],
   "source": [
    "Muestra los procesos de forma jerárquica que se están ejecutando en tu ordenador:\n",
    "\n",
    "Usando el comando top o htop\n",
    "Usando el comando ps con argumentos"
   ]
  },
  {
   "cell_type": "code",
   "execution_count": null,
   "id": "a3ec507c",
   "metadata": {},
   "outputs": [],
   "source": [
    "top -H\n"
   ]
  },
  {
   "cell_type": "code",
   "execution_count": null,
   "id": "484e9ede",
   "metadata": {},
   "outputs": [],
   "source": []
  },
  {
   "cell_type": "code",
   "execution_count": null,
   "id": "1d05248b",
   "metadata": {},
   "outputs": [],
   "source": [
    "Muestra información sobre tu procesador por pantalla"
   ]
  },
  {
   "cell_type": "code",
   "execution_count": null,
   "id": "ad89fc32",
   "metadata": {},
   "outputs": [],
   "source": [
    "cat /proc/cpuinfo"
   ]
  },
  {
   "cell_type": "code",
   "execution_count": null,
   "id": "5d9706cb",
   "metadata": {},
   "outputs": [],
   "source": []
  },
  {
   "cell_type": "code",
   "execution_count": null,
   "id": "7fef4089",
   "metadata": {},
   "outputs": [],
   "source": [
    "Crea 3 alias y haz que estén disponibles cada vez que inicias sesión"
   ]
  },
  {
   "cell_type": "code",
   "execution_count": null,
   "id": "0c449870",
   "metadata": {},
   "outputs": [],
   "source": [
    "nano ~/.bashrc\n",
    "alias ll='ls -alh'\n",
    "alias ..='cd ..'\n",
    "alias ...='cd ../..'"
   ]
  },
  {
   "cell_type": "code",
   "execution_count": null,
   "id": "254f5582",
   "metadata": {},
   "outputs": [],
   "source": []
  },
  {
   "cell_type": "code",
   "execution_count": null,
   "id": "14b2a344",
   "metadata": {},
   "outputs": [],
   "source": [
    "Comprime las carpetas lorem y lorem-copy en un archivo llamado lorem-compressed.tar.gz"
   ]
  },
  {
   "cell_type": "code",
   "execution_count": null,
   "id": "8993133e",
   "metadata": {},
   "outputs": [],
   "source": [
    "tar -zcvf lorem-compressed.tar.gz lorem lorem-copy\n"
   ]
  },
  {
   "cell_type": "code",
   "execution_count": null,
   "id": "1ec7b32a",
   "metadata": {},
   "outputs": [],
   "source": []
  },
  {
   "cell_type": "code",
   "execution_count": null,
   "id": "87f98699",
   "metadata": {},
   "outputs": [],
   "source": [
    "Descomprime el archivo lorem-compressed.tar.gz en la carpeta lorem-uncompressed"
   ]
  },
  {
   "cell_type": "code",
   "execution_count": null,
   "id": "6e713142",
   "metadata": {},
   "outputs": [],
   "source": [
    "tar -xzvf lorem-compressed.tar.gz -C lorem-uncompressed/\n"
   ]
  },
  {
   "cell_type": "code",
   "execution_count": null,
   "id": "36bb12b8",
   "metadata": {},
   "outputs": [],
   "source": []
  },
  {
   "cell_type": "code",
   "execution_count": null,
   "id": "85749cd4",
   "metadata": {},
   "outputs": [],
   "source": [
    "Crea un script bash para imprimir los numeros de 1 a 100."
   ]
  },
  {
   "cell_type": "code",
   "execution_count": null,
   "id": "181a5d98",
   "metadata": {},
   "outputs": [],
   "source": [
    "for i in {1..100}\n",
    "do\n",
    "    echo $i\n",
    "done\n"
   ]
  }
 ],
 "metadata": {
  "kernelspec": {
   "display_name": "Python 3 (ipykernel)",
   "language": "python",
   "name": "python3"
  },
  "language_info": {
   "codemirror_mode": {
    "name": "ipython",
    "version": 3
   },
   "file_extension": ".py",
   "mimetype": "text/x-python",
   "name": "python",
   "nbconvert_exporter": "python",
   "pygments_lexer": "ipython3",
   "version": "3.9.7"
  }
 },
 "nbformat": 4,
 "nbformat_minor": 5
}
