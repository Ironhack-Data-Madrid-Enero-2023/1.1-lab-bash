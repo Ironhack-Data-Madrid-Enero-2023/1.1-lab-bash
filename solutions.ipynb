{
 "cells": [
  {
   "cell_type": "markdown",
   "id": "56c0bd8d",
   "metadata": {},
   "source": [
    "Imprime en consola Hello World.\n"
   ]
  },
  {
   "cell_type": "code",
   "execution_count": null,
   "id": "168408a1",
   "metadata": {},
   "outputs": [],
   "source": [
    "echo Hello World.\n"
   ]
  },
  {
   "cell_type": "markdown",
   "id": "88d02c16",
   "metadata": {},
   "source": [
    "Crea un directorio nuevo llamado new_dir."
   ]
  },
  {
   "cell_type": "code",
   "execution_count": null,
   "id": "6f26a3b1",
   "metadata": {},
   "outputs": [],
   "source": [
    "mkdir new_dir"
   ]
  },
  {
   "cell_type": "code",
   "execution_count": null,
   "id": "d73fd0e6",
   "metadata": {},
   "outputs": [],
   "source": [
    "Elimina ese directorio."
   ]
  },
  {
   "cell_type": "code",
   "execution_count": null,
   "id": "6c05fbd7",
   "metadata": {},
   "outputs": [],
   "source": [
    "rm -r new_dir"
   ]
  },
  {
   "cell_type": "code",
   "execution_count": null,
   "id": "9b29a198",
   "metadata": {},
   "outputs": [],
   "source": [
    "Copia el archivo sed.txt dentro de la carpeta lorem a la carpeta lorem-copy. TIP: Puede ser necesario crear la carpeta lorem-copy primero."
   ]
  },
  {
   "cell_type": "code",
   "execution_count": null,
   "id": "7d71a002",
   "metadata": {},
   "outputs": [],
   "source": [
    " mkdir lorem-copy // cp lorem/sed.txt lorem_copy"
   ]
  },
  {
   "cell_type": "code",
   "execution_count": null,
   "id": "7937197f",
   "metadata": {},
   "outputs": [],
   "source": [
    "Copia los otros dos archivos de la carpeta lorem a la carpeta lorem-copy en una sola línea.\n"
   ]
  },
  {
   "cell_type": "code",
   "execution_count": null,
   "id": "476b68e7",
   "metadata": {},
   "outputs": [],
   "source": [
    "cp lorem/at.txt lorem_copy  // cp lorem.txt lorem_copy"
   ]
  },
  {
   "cell_type": "code",
   "execution_count": null,
   "id": "617d25d9",
   "metadata": {},
   "outputs": [],
   "source": [
    "Muestra el contenido del archivo sed.txt dentro de la carpeta lorem."
   ]
  },
  {
   "cell_type": "code",
   "execution_count": null,
   "id": "c9c27dde",
   "metadata": {},
   "outputs": [],
   "source": [
    "cat sed.txt"
   ]
  },
  {
   "cell_type": "code",
   "execution_count": null,
   "id": "961e6c1a",
   "metadata": {},
   "outputs": [],
   "source": [
    "Muestra el contenido de los archivos at.txt y lorem.txt dentro de la carpeta lorem."
   ]
  },
  {
   "cell_type": "code",
   "execution_count": null,
   "id": "509ece4c",
   "metadata": {},
   "outputs": [],
   "source": [
    "cat at.txt cat lorem.txt"
   ]
  },
  {
   "cell_type": "code",
   "execution_count": null,
   "id": "f96b111a",
   "metadata": {},
   "outputs": [],
   "source": [
    "Visualiza las primeras 3 líneas del archivo sed.txt dentro de la carpeta lorem-copy"
   ]
  },
  {
   "cell_type": "code",
   "execution_count": null,
   "id": "7143914b",
   "metadata": {},
   "outputs": [],
   "source": [
    "get-content sed.txt -totalcount 3"
   ]
  },
  {
   "cell_type": "code",
   "execution_count": null,
   "id": "fd63ebee",
   "metadata": {},
   "outputs": [],
   "source": [
    "Visualiza las ultimas 3 líneas del archivo sed.txt dentro de la carpeta lorem-copy"
   ]
  },
  {
   "cell_type": "code",
   "execution_count": null,
   "id": "54f1d1ed",
   "metadata": {},
   "outputs": [],
   "source": [
    "get-content sed.txt -tail 3"
   ]
  },
  {
   "cell_type": "code",
   "execution_count": null,
   "id": "ca3df3ed",
   "metadata": {},
   "outputs": [],
   "source": [
    "Añade Homo homini lupus. al final de archivo sed.txt dentro de la carpeta lorem-copy."
   ]
  },
  {
   "cell_type": "code",
   "execution_count": null,
   "id": "1acbb567",
   "metadata": {},
   "outputs": [],
   "source": [
    " echo Homo homini lupus >>sed.txt"
   ]
  },
  {
   "cell_type": "code",
   "execution_count": null,
   "id": "9272a422",
   "metadata": {},
   "outputs": [],
   "source": [
    "Visualiza las últimas 3 líneas del archivo sed.txt dentro de la carpeta lorem-copy. Deberías ver ahora Homo homini lupus.."
   ]
  },
  {
   "cell_type": "code",
   "execution_count": null,
   "id": "a899f2c0",
   "metadata": {},
   "outputs": [],
   "source": [
    "get-content sed.txt -tail 3"
   ]
  },
  {
   "cell_type": "code",
   "execution_count": null,
   "id": "8f699abe",
   "metadata": {},
   "outputs": [],
   "source": [
    "Sustituye todas las apariciones de et por ET del archivo at.txt dentro de la carpeta lorem-copy. Deberás usar sed."
   ]
  },
  {
   "cell_type": "code",
   "execution_count": null,
   "id": "44bea3e8",
   "metadata": {},
   "outputs": [],
   "source": [
    "(get-content -path lorem-copy/at.txt -raw) -replace 'et' , 'ET'"
   ]
  },
  {
   "cell_type": "code",
   "execution_count": null,
   "id": "fbdfeaf0",
   "metadata": {},
   "outputs": [],
   "source": [
    "Encuentra al usuario activo en el sistema."
   ]
  },
  {
   "cell_type": "code",
   "execution_count": null,
   "id": "4d89b55e",
   "metadata": {},
   "outputs": [],
   "source": [
    "whoami"
   ]
  },
  {
   "cell_type": "code",
   "execution_count": null,
   "id": "38f672c4",
   "metadata": {},
   "outputs": [],
   "source": [
    "Encuentra dónde estás en tu sistema de ficheros."
   ]
  },
  {
   "cell_type": "code",
   "execution_count": null,
   "id": "ccda2f15",
   "metadata": {},
   "outputs": [],
   "source": [
    "pwd"
   ]
  },
  {
   "cell_type": "code",
   "execution_count": null,
   "id": "ed5d1fd5",
   "metadata": {},
   "outputs": [],
   "source": [
    "Lista los archivos que terminan por .txt en la carpeta lorem."
   ]
  },
  {
   "cell_type": "code",
   "execution_count": null,
   "id": "3990625f",
   "metadata": {},
   "outputs": [],
   "source": [
    "ls *.txt"
   ]
  },
  {
   "cell_type": "code",
   "execution_count": null,
   "id": "a2085789",
   "metadata": {},
   "outputs": [],
   "source": [
    "Cuenta el número de líneas que tiene el archivo sed.txt dentro de la carpeta lorem."
   ]
  },
  {
   "cell_type": "code",
   "execution_count": null,
   "id": "50e3246f",
   "metadata": {},
   "outputs": [],
   "source": [
    "(Get-Content -Path 'lorem\\sed.txt' | Measure-Object -Line).Lines"
   ]
  },
  {
   "cell_type": "code",
   "execution_count": null,
   "id": "86ad9905",
   "metadata": {},
   "outputs": [],
   "source": [
    "Cuenta el número de archivos que empiezan por lorem que están en este directorio y en directorios internos."
   ]
  },
  {
   "cell_type": "code",
   "execution_count": null,
   "id": "f92d97a0",
   "metadata": {},
   "outputs": [],
   "source": [
    "type lorem* | Measure-object -line"
   ]
  },
  {
   "cell_type": "code",
   "execution_count": null,
   "id": "246e6472",
   "metadata": {},
   "outputs": [],
   "source": [
    "Encuentra todas las apariciones de et en at.txt dentro de la carpeta lorem."
   ]
  },
  {
   "cell_type": "code",
   "execution_count": null,
   "id": "96d82887",
   "metadata": {},
   "outputs": [],
   "source": [
    "Select-String -Path lorem\\at.txt -Pattern \"et\""
   ]
  },
  {
   "cell_type": "code",
   "execution_count": null,
   "id": "d56f861f",
   "metadata": {},
   "outputs": [],
   "source": [
    "Cuenta el número de apariciones del string et en at.txt dentro de la carpeta lorem."
   ]
  },
  {
   "cell_type": "code",
   "execution_count": null,
   "id": "d4b4b617",
   "metadata": {},
   "outputs": [],
   "source": [
    "(Select-String -Path lorem\\at.txt -Pattern \"et\" -AllMatches).Matches.Count"
   ]
  },
  {
   "cell_type": "code",
   "execution_count": null,
   "id": "8ed5cce7",
   "metadata": {},
   "outputs": [],
   "source": [
    "Cuenta el número de apariciones del string et en todos los archivos del directorio lorem-copy."
   ]
  },
  {
   "cell_type": "code",
   "execution_count": null,
   "id": "ab26a643",
   "metadata": {},
   "outputs": [],
   "source": [
    "(Select-String -Path lorem-copy\\at.txt -Pattern \"et\" -AllMatches).Matches.Count"
   ]
  },
  {
   "cell_type": "code",
   "execution_count": null,
   "id": "e9461285",
   "metadata": {},
   "outputs": [],
   "source": [
    "Almacena en una variable name tu nombre."
   ]
  },
  {
   "cell_type": "code",
   "execution_count": null,
   "id": "7cf4dc97",
   "metadata": {},
   "outputs": [],
   "source": [
    "$name = \"Cristina\""
   ]
  },
  {
   "cell_type": "code",
   "execution_count": null,
   "id": "c0daeeec",
   "metadata": {},
   "outputs": [],
   "source": [
    "Imprime esa variable."
   ]
  },
  {
   "cell_type": "code",
   "execution_count": null,
   "id": "44d49065",
   "metadata": {},
   "outputs": [],
   "source": [
    " echo $name"
   ]
  },
  {
   "cell_type": "code",
   "execution_count": null,
   "id": "89011ee5",
   "metadata": {},
   "outputs": [],
   "source": [
    "Crea un directorio nuevo que se llame como el contenido de la variable name."
   ]
  },
  {
   "cell_type": "code",
   "execution_count": null,
   "id": "ef986d2f",
   "metadata": {},
   "outputs": [],
   "source": [
    "mkdir $name"
   ]
  },
  {
   "cell_type": "code",
   "execution_count": null,
   "id": "f5281b92",
   "metadata": {},
   "outputs": [],
   "source": [
    "Elimina ese directorio."
   ]
  },
  {
   "cell_type": "code",
   "execution_count": null,
   "id": "ee7086b2",
   "metadata": {},
   "outputs": [],
   "source": [
    " rm -r $name"
   ]
  },
  {
   "cell_type": "code",
   "execution_count": null,
   "id": "b33a9010",
   "metadata": {},
   "outputs": [],
   "source": [
    "Muestra los procesos de forma jerárquica que se están ejecutando en tu ordenador:"
   ]
  },
  {
   "cell_type": "code",
   "execution_count": null,
   "id": "496eb623",
   "metadata": {},
   "outputs": [],
   "source": [
    " get-process"
   ]
  },
  {
   "cell_type": "code",
   "execution_count": null,
   "id": "6bec946e",
   "metadata": {},
   "outputs": [],
   "source": [
    "Muestra información sobre tu procesador por pantalla"
   ]
  },
  {
   "cell_type": "code",
   "execution_count": null,
   "id": "0c94c7bd",
   "metadata": {},
   "outputs": [],
   "source": [
    "Get-CimInstance -ClassName \"Win32_Processor\"| % { \n",
    "    Write-Host \"CPU ID: \"\n",
    "    Write-Host $_.DeviceID\n",
    "    Write-Host \"CPU Model: \"\n",
    "    Write-Host $_.Name\n",
    "    Write-Host \"CPU Cores: \"\n",
    "    Write-Host $_.NumberOfCores\n",
    "    Write-Host \"CPU Max Speed: \"\n",
    "    Write-Host $_.MaxClockSpeed \n",
    "    Write-Host \"CPU Status: \"\n",
    "    Write-Host $_.Status \n",
    "    Write-Host \n",
    "}"
   ]
  },
  {
   "cell_type": "code",
   "execution_count": null,
   "id": "e2ad0770",
   "metadata": {},
   "outputs": [],
   "source": [
    "Crea 3 alias y haz que estén disponibles cada vez que inicias sesión"
   ]
  },
  {
   "cell_type": "code",
   "execution_count": null,
   "id": "1e569e43",
   "metadata": {},
   "outputs": [],
   "source": [
    " New-Alias -Name wc -Value Get-Content"
   ]
  },
  {
   "cell_type": "code",
   "execution_count": null,
   "id": "d28cbe2b",
   "metadata": {},
   "outputs": [],
   "source": []
  }
 ],
 "metadata": {
  "kernelspec": {
   "display_name": "Python 3 (ipykernel)",
   "language": "python",
   "name": "python3"
  },
  "language_info": {
   "codemirror_mode": {
    "name": "ipython",
    "version": 3
   },
   "file_extension": ".py",
   "mimetype": "text/x-python",
   "name": "python",
   "nbconvert_exporter": "python",
   "pygments_lexer": "ipython3",
   "version": "3.9.13"
  }
 },
 "nbformat": 4,
 "nbformat_minor": 5
}
