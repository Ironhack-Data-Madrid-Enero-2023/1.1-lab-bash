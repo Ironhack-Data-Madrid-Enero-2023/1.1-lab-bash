{
 "cells": [
  {
   "cell_type": "code",
   "execution_count": null,
   "id": "beb1a9e8",
   "metadata": {},
   "outputs": [],
   "source": [
    "* Imprime en consola `Hello World`."
   ]
  },
  {
   "cell_type": "code",
   "execution_count": null,
   "id": "f61bf31c",
   "metadata": {},
   "outputs": [],
   "source": [
    "echo Hello World"
   ]
  },
  {
   "cell_type": "code",
   "execution_count": null,
   "id": "821e1cef",
   "metadata": {},
   "outputs": [],
   "source": [
    "* Crea un directorio nuevo llamado `new_dir`."
   ]
  },
  {
   "cell_type": "code",
   "execution_count": null,
   "id": "f5195d25",
   "metadata": {},
   "outputs": [],
   "source": [
    "mkdir new_dir"
   ]
  },
  {
   "cell_type": "code",
   "execution_count": null,
   "id": "1f5c2285",
   "metadata": {},
   "outputs": [],
   "source": [
    "* Elimina ese directorio."
   ]
  },
  {
   "cell_type": "code",
   "execution_count": null,
   "id": "aaabc2e9",
   "metadata": {},
   "outputs": [],
   "source": [
    "rm -r new_dir"
   ]
  },
  {
   "cell_type": "code",
   "execution_count": null,
   "id": "3daad4ad",
   "metadata": {},
   "outputs": [],
   "source": [
    "* Copia el archivo `sed.txt` dentro de la carpeta lorem a la carpeta lorem-copy. TIP: Puede ser necesario crear la carpeta lorem-copy primero. \n"
   ]
  },
  {
   "cell_type": "code",
   "execution_count": null,
   "id": "2eebd6e7",
   "metadata": {},
   "outputs": [],
   "source": [
    "cp sed.txt ../lorem-copy"
   ]
  },
  {
   "cell_type": "code",
   "execution_count": null,
   "id": "bb5656ff",
   "metadata": {},
   "outputs": [],
   "source": [
    "* Copia los otros dos archivos de la carpeta lorem a la carpeta lorem-copy en una sola línea."
   ]
  },
  {
   "cell_type": "code",
   "execution_count": null,
   "id": "b6aedfa2",
   "metadata": {},
   "outputs": [],
   "source": [
    "cp at.txt lorem.txt ../lorem-copy"
   ]
  },
  {
   "cell_type": "code",
   "execution_count": null,
   "id": "23d7348a",
   "metadata": {},
   "outputs": [],
   "source": [
    "* Muestra el contenido del archivo `sed.txt` dentro de la carpeta lorem. "
   ]
  },
  {
   "cell_type": "code",
   "execution_count": null,
   "id": "e274c8ca",
   "metadata": {},
   "outputs": [],
   "source": [
    "cat sed.txt"
   ]
  },
  {
   "cell_type": "code",
   "execution_count": null,
   "id": "e891d097",
   "metadata": {},
   "outputs": [],
   "source": [
    "* Muestra el contenido de los archivos `at.txt` y `lorem.txt` dentro de la carpeta lorem. "
   ]
  },
  {
   "cell_type": "code",
   "execution_count": null,
   "id": "d7c84c28",
   "metadata": {},
   "outputs": [],
   "source": [
    "cat at.txt lorem.txt"
   ]
  },
  {
   "cell_type": "code",
   "execution_count": null,
   "id": "a7cf3204",
   "metadata": {},
   "outputs": [],
   "source": [
    "* Visualiza las primeras 3 líneas del archivo `sed.txt` dentro de la carpeta lorem-copy "
   ]
  },
  {
   "cell_type": "code",
   "execution_count": null,
   "id": "29c792cb",
   "metadata": {},
   "outputs": [],
   "source": [
    "head -n 3 sed.txt"
   ]
  },
  {
   "cell_type": "code",
   "execution_count": null,
   "id": "15dccbbb",
   "metadata": {},
   "outputs": [],
   "source": [
    "* Visualiza las ultimas 3 líneas del archivo `sed.txt` dentro de la carpeta lorem-copy "
   ]
  },
  {
   "cell_type": "code",
   "execution_count": null,
   "id": "5da34d98",
   "metadata": {},
   "outputs": [],
   "source": [
    "tail -n 3 sed.txt"
   ]
  },
  {
   "cell_type": "code",
   "execution_count": null,
   "id": "9064a4c6",
   "metadata": {},
   "outputs": [],
   "source": [
    "* Añade `Homo homini lupus.` al final de archivo `sed.txt` dentro de la carpeta lorem-copy. "
   ]
  },
  {
   "cell_type": "code",
   "execution_count": null,
   "id": "2f6943c0",
   "metadata": {},
   "outputs": [],
   "source": [
    "echo Homo homini lupus. >> sed.txt"
   ]
  },
  {
   "cell_type": "code",
   "execution_count": null,
   "id": "776804b8",
   "metadata": {},
   "outputs": [],
   "source": [
    "* Visualiza las últimas 3 líneas del archivo `sed.txt` dentro de la carpeta lorem-copy. Deberías ver ahora `Homo homini lupus.`. "
   ]
  },
  {
   "cell_type": "code",
   "execution_count": null,
   "id": "880022e9",
   "metadata": {},
   "outputs": [],
   "source": [
    "tail -n 3 sed.txt"
   ]
  },
  {
   "cell_type": "code",
   "execution_count": null,
   "id": "ec46bd78",
   "metadata": {},
   "outputs": [],
   "source": [
    "* Sustituye todas las apariciones de `et` por `ET` del archivo `at.txt` dentro de la carpeta lorem-copy. Deberás usar `sed`. \n"
   ]
  },
  {
   "cell_type": "code",
   "execution_count": null,
   "id": "19eb148d",
   "metadata": {},
   "outputs": [],
   "source": [
    "sed 's/et/ET/g' sed.txt"
   ]
  },
  {
   "cell_type": "code",
   "execution_count": null,
   "id": "8343d082",
   "metadata": {},
   "outputs": [],
   "source": [
    "* Encuentra al usuario activo en el sistema."
   ]
  },
  {
   "cell_type": "code",
   "execution_count": null,
   "id": "51c23953",
   "metadata": {},
   "outputs": [],
   "source": [
    "whoami"
   ]
  },
  {
   "cell_type": "code",
   "execution_count": null,
   "id": "f67c9c92",
   "metadata": {
    "collapsed": true
   },
   "outputs": [],
   "source": [
    "* Encuentra dónde estás en tu sistema de ficheros."
   ]
  },
  {
   "cell_type": "code",
   "execution_count": null,
   "id": "a1bd876a",
   "metadata": {},
   "outputs": [],
   "source": [
    "pwd"
   ]
  },
  {
   "cell_type": "code",
   "execution_count": null,
   "id": "338dfde4",
   "metadata": {},
   "outputs": [],
   "source": [
    "* Lista los archivos que terminan por `.txt` en la carpeta lorem."
   ]
  },
  {
   "cell_type": "code",
   "execution_count": null,
   "id": "d08d12aa",
   "metadata": {},
   "outputs": [],
   "source": [
    "ls *.txt"
   ]
  },
  {
   "cell_type": "code",
   "execution_count": null,
   "id": "27d6a078",
   "metadata": {},
   "outputs": [],
   "source": [
    "* Cuenta el número de líneas que tiene el archivo `sed.txt` dentro de la carpeta lorem. "
   ]
  },
  {
   "cell_type": "code",
   "execution_count": null,
   "id": "609c20af",
   "metadata": {},
   "outputs": [],
   "source": [
    "wc -l sed.txt"
   ]
  },
  {
   "cell_type": "code",
   "execution_count": null,
   "id": "347fb226",
   "metadata": {},
   "outputs": [],
   "source": [
    "* Cuenta el número de **archivos** que empiezan por `lorem` que están en este directorio y en directorios internos."
   ]
  },
  {
   "cell_type": "code",
   "execution_count": null,
   "id": "991764d8",
   "metadata": {},
   "outputs": [],
   "source": [
    "find / -name \"lorem\" | wc -l"
   ]
  },
  {
   "cell_type": "code",
   "execution_count": null,
   "id": "31e7a451",
   "metadata": {},
   "outputs": [],
   "source": [
    "* Encuentra todas las apariciones de `et` en `at.txt` dentro de la carpeta lorem."
   ]
  },
  {
   "cell_type": "code",
   "execution_count": null,
   "id": "7447800a",
   "metadata": {},
   "outputs": [],
   "source": [
    "grep \"et\" at.txt"
   ]
  },
  {
   "cell_type": "code",
   "execution_count": null,
   "id": "4e11be3e",
   "metadata": {},
   "outputs": [],
   "source": [
    "* Cuenta el número de apariciones del string `et` en `at.txt` dentro de la carpeta lorem. "
   ]
  },
  {
   "cell_type": "code",
   "execution_count": null,
   "id": "648bdf06",
   "metadata": {},
   "outputs": [],
   "source": [
    "grep \"et\" at.txt | wc -l"
   ]
  },
  {
   "cell_type": "code",
   "execution_count": null,
   "id": "7f880624",
   "metadata": {},
   "outputs": [],
   "source": [
    "*  Cuenta el número de apariciones del string `et` en todos los archivos del directorio lorem-copy. "
   ]
  },
  {
   "cell_type": "code",
   "execution_count": null,
   "id": "f729e52e",
   "metadata": {},
   "outputs": [],
   "source": [
    "grep \"et\" *.txt | wc -l"
   ]
  },
  {
   "cell_type": "code",
   "execution_count": null,
   "id": "9f8a6c5a",
   "metadata": {},
   "outputs": [],
   "source": [
    "* Almacena en una variable `name` tu nombre."
   ]
  },
  {
   "cell_type": "code",
   "execution_count": null,
   "id": "6818666d",
   "metadata": {},
   "outputs": [],
   "source": [
    "name=Ronald"
   ]
  },
  {
   "cell_type": "code",
   "execution_count": null,
   "id": "21e89307",
   "metadata": {},
   "outputs": [],
   "source": [
    "* Imprime esa variable."
   ]
  },
  {
   "cell_type": "code",
   "execution_count": null,
   "id": "241c1c3e",
   "metadata": {},
   "outputs": [],
   "source": [
    "echo $name"
   ]
  },
  {
   "cell_type": "code",
   "execution_count": null,
   "id": "b1ac9965",
   "metadata": {},
   "outputs": [],
   "source": [
    "* Crea un directorio nuevo que se llame como el contenido de la variable `name`."
   ]
  },
  {
   "cell_type": "code",
   "execution_count": null,
   "id": "a54e214c",
   "metadata": {},
   "outputs": [],
   "source": [
    "mkdir $name"
   ]
  },
  {
   "cell_type": "code",
   "execution_count": null,
   "id": "9d137e77",
   "metadata": {},
   "outputs": [],
   "source": [
    "* Elimina ese directorio. "
   ]
  },
  {
   "cell_type": "code",
   "execution_count": null,
   "id": "a0d9b97a",
   "metadata": {},
   "outputs": [],
   "source": [
    "rm -r $name"
   ]
  },
  {
   "cell_type": "code",
   "execution_count": null,
   "id": "f5d4a5c5",
   "metadata": {},
   "outputs": [],
   "source": [
    "* Muestra los procesos de forma jerárquica que se están ejecutando en tu ordenador:\n",
    "    1. Usando el comando top o htop\n",
    "    2. Usando el comando ps con argumentos\n"
   ]
  }
 ],
 "metadata": {
  "kernelspec": {
   "display_name": "Python 3 (ipykernel)",
   "language": "python",
   "name": "python3"
  },
  "language_info": {
   "codemirror_mode": {
    "name": "ipython",
    "version": 3
   },
   "file_extension": ".py",
   "mimetype": "text/x-python",
   "name": "python",
   "nbconvert_exporter": "python",
   "pygments_lexer": "ipython3",
   "version": "3.9.12"
  }
 },
 "nbformat": 4,
 "nbformat_minor": 5
}
