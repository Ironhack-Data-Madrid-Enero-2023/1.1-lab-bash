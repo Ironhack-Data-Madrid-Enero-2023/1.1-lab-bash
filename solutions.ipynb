{
 "cells": [
  {
   "cell_type": "markdown",
   "id": "f0e8f65f",
   "metadata": {},
   "source": [
    "1.echo Hello World"
   ]
  },
  {
   "cell_type": "markdown",
   "id": "2d7a5e93",
   "metadata": {},
   "source": [
    "2. mkdir new_dir"
   ]
  },
  {
   "cell_type": "code",
   "execution_count": null,
   "id": "4a6d695a",
   "metadata": {},
   "outputs": [],
   "source": [
    "3. rmdir new_dir"
   ]
  },
  {
   "cell_type": "code",
   "execution_count": null,
   "id": "0b12493a",
   "metadata": {},
   "outputs": [],
   "source": [
    "4. mkdir lorem-copy\n",
    "cp sed.txt ../lorem-copy"
   ]
  },
  {
   "cell_type": "code",
   "execution_count": null,
   "id": "f5d71c9d",
   "metadata": {},
   "outputs": [],
   "source": [
    "5. cp at.txt lorem.txt ../lorem-copy"
   ]
  },
  {
   "cell_type": "code",
   "execution_count": null,
   "id": "79b1a883",
   "metadata": {},
   "outputs": [],
   "source": [
    "6. cat lorem/sed.txt"
   ]
  },
  {
   "cell_type": "code",
   "execution_count": null,
   "id": "83dc0514",
   "metadata": {},
   "outputs": [],
   "source": [
    "7. head -n 3 lorem-copy/sed.txt"
   ]
  },
  {
   "cell_type": "code",
   "execution_count": null,
   "id": "0e746016",
   "metadata": {},
   "outputs": [],
   "source": [
    "8. tail -n -3 lorem-copy/sed.txt"
   ]
  },
  {
   "cell_type": "code",
   "execution_count": null,
   "id": "3b3cfdb7",
   "metadata": {},
   "outputs": [],
   "source": [
    "9. echo Homo homini lupus. >> lorem-copy/sed.txt"
   ]
  },
  {
   "cell_type": "code",
   "execution_count": null,
   "id": "84f65da9",
   "metadata": {},
   "outputs": [],
   "source": [
    "10. tail -n -3 lorem-copy/sed.txt"
   ]
  },
  {
   "cell_type": "code",
   "execution_count": null,
   "id": "80a73d5a",
   "metadata": {},
   "outputs": [],
   "source": [
    "11. sed 's/et/ET/g' lorem-copy/sed.txt"
   ]
  },
  {
   "cell_type": "code",
   "execution_count": null,
   "id": "25d15e1f",
   "metadata": {},
   "outputs": [],
   "source": [
    "12. whoami"
   ]
  },
  {
   "cell_type": "code",
   "execution_count": null,
   "id": "c9e08a01",
   "metadata": {},
   "outputs": [],
   "source": [
    "13. pwd"
   ]
  },
  {
   "cell_type": "code",
   "execution_count": null,
   "id": "fd4094de",
   "metadata": {},
   "outputs": [],
   "source": [
    "14. ls -1 lorem | grep -E '.*\\.txt$'"
   ]
  },
  {
   "cell_type": "code",
   "execution_count": null,
   "id": "7dd59d29",
   "metadata": {},
   "outputs": [],
   "source": [
    "wc -l lorem/sed.txt\n"
   ]
  },
  {
   "cell_type": "code",
   "execution_count": null,
   "id": "66a493c8",
   "metadata": {},
   "outputs": [],
   "source": [
    "find . -name \"lorem*\" -type f | wc -l"
   ]
  },
  {
   "cell_type": "code",
   "execution_count": null,
   "id": "00c2e2c6",
   "metadata": {},
   "outputs": [],
   "source": [
    "grep -o \"et\" lorem/at.txt"
   ]
  },
  {
   "cell_type": "code",
   "execution_count": null,
   "id": "7a512dad",
   "metadata": {},
   "outputs": [],
   "source": [
    "grep -o \"et\" lorem/at.txt | wc -l"
   ]
  },
  {
   "cell_type": "code",
   "execution_count": null,
   "id": "8156f44d",
   "metadata": {},
   "outputs": [],
   "source": [
    "grep -r -o \"et\" . | wc -l"
   ]
  },
  {
   "cell_type": "code",
   "execution_count": null,
   "id": "df5e9ff2",
   "metadata": {},
   "outputs": [],
   "source": [
    "touch name.sh\n",
    "vim name.sh\n",
    "bash name.sh"
   ]
  },
  {
   "cell_type": "code",
   "execution_count": null,
   "id": "7fbde800",
   "metadata": {},
   "outputs": [],
   "source": [
    "#!/bin/bash\n",
    "for i in {1..100}\n",
    "do\n",
    "    echo $i\n",
    "done\n"
   ]
  }
 ],
 "metadata": {
  "kernelspec": {
   "display_name": "Python 3 (ipykernel)",
   "language": "python",
   "name": "python3"
  },
  "language_info": {
   "codemirror_mode": {
    "name": "ipython",
    "version": 3
   },
   "file_extension": ".py",
   "mimetype": "text/x-python",
   "name": "python",
   "nbconvert_exporter": "python",
   "pygments_lexer": "ipython3",
   "version": "3.9.13"
  }
 },
 "nbformat": 4,
 "nbformat_minor": 5
}
