{
 "cells": [
  {
   "cell_type": "markdown",
   "id": "f71c77a3",
   "metadata": {},
   "source": [
    "Imprime en consola Hello World."
   ]
  },
  {
   "cell_type": "code",
   "execution_count": 1,
   "id": "68ee8709",
   "metadata": {},
   "outputs": [
    {
     "name": "stdout",
     "output_type": "stream",
     "text": [
      "'hello word'\n"
     ]
    }
   ],
   "source": [
    "echo 'hello word'\n"
   ]
  },
  {
   "cell_type": "markdown",
   "id": "e4fdb6e2",
   "metadata": {},
   "source": [
    "Crea un directorio nuevo llamado new_dir."
   ]
  },
  {
   "cell_type": "code",
   "execution_count": 2,
   "id": "c627d437",
   "metadata": {},
   "outputs": [
    {
     "name": "stderr",
     "output_type": "stream",
     "text": [
      "Ya existe el subdirectorio o el archivo new_dir.\n"
     ]
    }
   ],
   "source": [
    "mkdir new_dir"
   ]
  },
  {
   "cell_type": "markdown",
   "id": "6d5b3ec3",
   "metadata": {},
   "source": [
    "Elimina ese directorio.\n"
   ]
  },
  {
   "cell_type": "code",
   "execution_count": 3,
   "id": "677db10c",
   "metadata": {},
   "outputs": [
    {
     "ename": "NameError",
     "evalue": "name 'new_dir' is not defined",
     "output_type": "error",
     "traceback": [
      "\u001b[1;31m---------------------------------------------------------------------------\u001b[0m",
      "\u001b[1;31mNameError\u001b[0m                                 Traceback (most recent call last)",
      "\u001b[1;32m~\\AppData\\Local\\Temp\\ipykernel_30476\\2096088494.py\u001b[0m in \u001b[0;36m<module>\u001b[1;34m\u001b[0m\n\u001b[1;32m----> 1\u001b[1;33m \u001b[1;32mdel\u001b[0m \u001b[0mnew_dir\u001b[0m\u001b[1;33m\u001b[0m\u001b[1;33m\u001b[0m\u001b[0m\n\u001b[0m",
      "\u001b[1;31mNameError\u001b[0m: name 'new_dir' is not defined"
     ]
    }
   ],
   "source": [
    "del new_dir"
   ]
  },
  {
   "cell_type": "markdown",
   "id": "19666e87",
   "metadata": {},
   "source": [
    "Copia el archivo sed.txt dentro de la carpeta lorem a la carpeta lorem-copy. TIP: Puede ser necesario crear la carpeta lorem-copy primero."
   ]
  },
  {
   "cell_type": "code",
   "execution_count": null,
   "id": "51537ef8",
   "metadata": {},
   "outputs": [],
   "source": [
    "mkdir lorem-copy\n",
    "cd loren\n",
    "cp sed.txt C:\\Users\\elmat\\IRONHACK\\Labs\\1.1-lab-bash\\lorem-copy"
   ]
  },
  {
   "cell_type": "markdown",
   "id": "a3363937",
   "metadata": {},
   "source": [
    "Copia los otros dos archivos de la carpeta lorem a la carpeta lorem-copy en una sola línea."
   ]
  },
  {
   "cell_type": "code",
   "execution_count": null,
   "id": "a20b161d",
   "metadata": {},
   "outputs": [],
   "source": [
    "#Usando powershell no me permite hacerlo en una sola línea\n",
    "cp at.txt C:\\Users\\elmat\\IRONHACK\\Labs\\1.1-lab-bash\\lorem-copy\n",
    "cp lorem.txt C:\\Users\\elmat\\IRONHACK\\Labs\\1.1-lab-bash\\lorem-copy"
   ]
  },
  {
   "cell_type": "markdown",
   "id": "cde79d49",
   "metadata": {},
   "source": [
    "Muestra el contenido del archivo sed.txt dentro de la carpeta lorem."
   ]
  },
  {
   "cell_type": "code",
   "execution_count": null,
   "id": "5f274040",
   "metadata": {},
   "outputs": [],
   "source": [
    "get-content sed.txt"
   ]
  },
  {
   "cell_type": "markdown",
   "id": "b22f057a",
   "metadata": {},
   "source": [
    "Muestra el contenido de los archivos at.txt y lorem.txt dentro de la carpeta lorem"
   ]
  },
  {
   "cell_type": "code",
   "execution_count": null,
   "id": "ce688d38",
   "metadata": {},
   "outputs": [],
   "source": [
    "#Usando powershell no me permite hacerlo en una sola línea\n",
    "gc at.txt \n",
    "gc lorem.txt "
   ]
  },
  {
   "cell_type": "markdown",
   "id": "3452ef6f",
   "metadata": {},
   "source": [
    "Visualiza las primeras 3 líneas del archivo sed.txt dentro de la carpeta lorem-copy"
   ]
  },
  {
   "cell_type": "code",
   "execution_count": null,
   "id": "585af4f4",
   "metadata": {},
   "outputs": [],
   "source": [
    "get-content sed.txt | select-object -first 3"
   ]
  },
  {
   "cell_type": "markdown",
   "id": "a037fb8d",
   "metadata": {},
   "source": [
    "Visualiza las ultimas 3 líneas del archivo sed.txt dentro de la carpeta lorem-copy"
   ]
  },
  {
   "cell_type": "code",
   "execution_count": null,
   "id": "a5288747",
   "metadata": {},
   "outputs": [],
   "source": [
    "get-content sed.txt | select-object -last 3"
   ]
  },
  {
   "cell_type": "markdown",
   "id": "5546c4e7",
   "metadata": {},
   "source": [
    "Añade Homo homini lupus. al final de archivo sed.txt dentro de la carpeta lorem-copy."
   ]
  },
  {
   "cell_type": "code",
   "execution_count": null,
   "id": "1d715152",
   "metadata": {},
   "outputs": [],
   "source": [
    "Add-Content sed.txt \"Homo homini lupus.\""
   ]
  },
  {
   "cell_type": "markdown",
   "id": "a88f4154",
   "metadata": {},
   "source": [
    "Visualiza las últimas 3 líneas del archivo sed.txt dentro de la carpeta lorem-copy. Deberías ver ahora Homo homini lupus.."
   ]
  },
  {
   "cell_type": "code",
   "execution_count": null,
   "id": "46479883",
   "metadata": {},
   "outputs": [],
   "source": [
    "get-content sed.txt | select-object -last 3"
   ]
  },
  {
   "cell_type": "markdown",
   "id": "9dbb887b",
   "metadata": {},
   "source": [
    "Sustituye todas las apariciones de et por ET del archivo at.txt dentro de la carpeta lorem-copy. Deberás usar sed"
   ]
  },
  {
   "cell_type": "code",
   "execution_count": null,
   "id": "1265ee81",
   "metadata": {},
   "outputs": [],
   "source": [
    "(Get-Content sed.txt) -replace \"et\", \"ET\" | Set-Content sed.txt"
   ]
  },
  {
   "cell_type": "markdown",
   "id": "3267bc73",
   "metadata": {},
   "source": [
    "Encuentra al usuario activo en el sistema."
   ]
  },
  {
   "cell_type": "code",
   "execution_count": null,
   "id": "a2f65019",
   "metadata": {},
   "outputs": [],
   "source": [
    "whoami"
   ]
  },
  {
   "cell_type": "markdown",
   "id": "fe64b795",
   "metadata": {},
   "source": [
    "Encuentra dónde estás en tu sistema de ficheros."
   ]
  },
  {
   "cell_type": "code",
   "execution_count": null,
   "id": "9b746717",
   "metadata": {},
   "outputs": [],
   "source": [
    "pwd"
   ]
  },
  {
   "cell_type": "markdown",
   "id": "94eaa941",
   "metadata": {},
   "source": [
    "Lista los archivos que terminan por .txt en la carpeta lorem."
   ]
  },
  {
   "cell_type": "code",
   "execution_count": null,
   "id": "ccae626d",
   "metadata": {},
   "outputs": [],
   "source": [
    "Get-ChildItem  -File -Name -Include *.txt"
   ]
  },
  {
   "cell_type": "markdown",
   "id": "18275fc1",
   "metadata": {},
   "source": [
    "Cuenta el número de líneas que tiene el archivo sed.txt dentro de la carpeta lorem"
   ]
  },
  {
   "cell_type": "code",
   "execution_count": null,
   "id": "10fb7a4f",
   "metadata": {},
   "outputs": [],
   "source": [
    "(Get-Content sed.txt | Measure-Object -Line).Lines"
   ]
  },
  {
   "cell_type": "markdown",
   "id": "9298a093",
   "metadata": {},
   "source": [
    "Cuenta el número de archivos que empiezan por lorem que están en este directorio y en directorios internos"
   ]
  },
  {
   "cell_type": "code",
   "execution_count": null,
   "id": "5838ee86",
   "metadata": {},
   "outputs": [],
   "source": [
    "(ls -filter \"lorem*\" -Recurse).count"
   ]
  },
  {
   "cell_type": "markdown",
   "id": "b33c2813",
   "metadata": {},
   "source": [
    "Encuentra todas las apariciones de et en at.txt dentro de la carpeta lorem"
   ]
  },
  {
   "cell_type": "code",
   "execution_count": null,
   "id": "0ffb3f87",
   "metadata": {},
   "outputs": [],
   "source": [
    "findstr /s /n \"et\" at.txt"
   ]
  },
  {
   "cell_type": "markdown",
   "id": "e2e708d9",
   "metadata": {},
   "source": [
    "Cuenta el número de apariciones del string et en at.txt dentro de la carpeta lorem"
   ]
  },
  {
   "cell_type": "code",
   "execution_count": null,
   "id": "cd9b5497",
   "metadata": {},
   "outputs": [],
   "source": [
    "(Select-String at.txt -Pattern \"et\" -AllMatches).Matches.Count"
   ]
  },
  {
   "cell_type": "markdown",
   "id": "579c7862",
   "metadata": {},
   "source": [
    "Cuenta el número de apariciones del string et en todos los archivos del directorio lorem-copy."
   ]
  },
  {
   "cell_type": "code",
   "execution_count": null,
   "id": "27d5ea05",
   "metadata": {},
   "outputs": [],
   "source": [
    "$etCount = 0\n",
    "Get-ChildItem -Recurse -File | ForEach-Object {\n",
    "    $etCount += (Select-String -Path $_.FullName -Pattern \"et\" -AllMatches).Matches.Count\n",
    "}\n",
    "\n",
    "Write-Host \"$etCount\""
   ]
  }
 ],
 "metadata": {
  "kernelspec": {
   "display_name": "Python 3 (ipykernel)",
   "language": "python",
   "name": "python3"
  },
  "language_info": {
   "codemirror_mode": {
    "name": "ipython",
    "version": 3
   },
   "file_extension": ".py",
   "mimetype": "text/x-python",
   "name": "python",
   "nbconvert_exporter": "python",
   "pygments_lexer": "ipython3",
   "version": "3.9.13"
  }
 },
 "nbformat": 4,
 "nbformat_minor": 5
}
