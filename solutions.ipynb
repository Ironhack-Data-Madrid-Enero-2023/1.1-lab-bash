{
 "cells": [
  {
   "cell_type": "code",
   "execution_count": null,
   "id": "b112fea5",
   "metadata": {},
   "outputs": [],
   "source": [
    "\n",
    "\n",
    "Imprime en consola Hello World.\n",
    "\n",
    "\n",
    "echo \"hello world\"\n"
   ]
  },
  {
   "cell_type": "code",
   "execution_count": null,
   "id": "fb72adab",
   "metadata": {},
   "outputs": [],
   "source": [
    "\n",
    "\n",
    "Crea un directorio nuevo llamado new_dir.\n",
    "\n",
    "mkdir new_dir"
   ]
  },
  {
   "cell_type": "code",
   "execution_count": null,
   "id": "4e98629d",
   "metadata": {},
   "outputs": [],
   "source": [
    "\n",
    "\n",
    "Elimina ese directorio.\n",
    "\n",
    "rmdir new_dir"
   ]
  },
  {
   "cell_type": "code",
   "execution_count": null,
   "id": "790d86fd",
   "metadata": {},
   "outputs": [],
   "source": [
    "\n",
    "\n",
    "Copia el archivo sed.txt dentro de la carpeta lorem a la carpeta lorem-copy. TIP: Puede ser necesario crear la carpeta lorem-copy primero.\n",
    "\n",
    "mkdir lorem-copy\n",
    "cp lorem/sed.txt lorem-copy\n"
   ]
  },
  {
   "cell_type": "code",
   "execution_count": null,
   "id": "5727e687",
   "metadata": {},
   "outputs": [],
   "source": [
    "\n",
    "\n",
    "Copia los otros dos archivos de la carpeta lorem a la carpeta lorem-copy en una sola línea.\n",
    "\n",
    "cp lorem/lorem.txt, lorem/lorem lorem-copy"
   ]
  },
  {
   "cell_type": "code",
   "execution_count": null,
   "id": "54b2f528",
   "metadata": {},
   "outputs": [],
   "source": [
    "\n",
    "\n",
    "Muestra el contenido del archivo sed.txt dentro de la carpeta lorem.\n",
    "\n",
    "cat lorem\\sed.txt"
   ]
  },
  {
   "cell_type": "code",
   "execution_count": null,
   "id": "2463c1bb",
   "metadata": {},
   "outputs": [],
   "source": [
    "\n",
    "\n",
    "Muestra el contenido de los archivos at.txt y lorem.txt dentro de la carpeta lorem.\n",
    "\n",
    "cd lorem\n",
    "cat at.txt, lorem.txt"
   ]
  },
  {
   "cell_type": "code",
   "execution_count": null,
   "id": "dc60a633",
   "metadata": {},
   "outputs": [],
   "source": [
    "\n",
    "\n",
    "Visualiza las primeras 3 líneas del archivo sed.txt dentro de la carpeta lorem-copy\n",
    "\n",
    "Get-Content -head 3 lorem-copy\\sed.txt"
   ]
  },
  {
   "cell_type": "code",
   "execution_count": null,
   "id": "2c6b2977",
   "metadata": {},
   "outputs": [],
   "source": [
    "\n",
    "\n",
    "Visualiza las ultimas 3 líneas del archivo sed.txt dentro de la carpeta lorem-copy\n",
    "\n",
    "Get-Content -tail 3 lorem-copy\\sed.txt"
   ]
  },
  {
   "cell_type": "code",
   "execution_count": null,
   "id": "da96cdf6",
   "metadata": {},
   "outputs": [],
   "source": [
    "\n",
    "\n",
    "Añade Homo homini lupus. al final de archivo sed.txt dentro de la carpeta lorem-copy.\n",
    "\n",
    "echo \"Homo homini lupus.\" >> lorem-copy\\sed.txt"
   ]
  },
  {
   "cell_type": "code",
   "execution_count": null,
   "id": "706dd090",
   "metadata": {},
   "outputs": [],
   "source": [
    "\n",
    "I'm\n",
    "Visualiza las últimas 3 líneas del archivo sed.txt dentro de la carpeta lorem-copy. Deberías ver ahora Homo homini lupus..\n",
    " \n",
    "Get-Content -tail 3 lorem-copy\\sed.txt"
   ]
  },
  {
   "cell_type": "code",
   "execution_count": null,
   "id": "fb388169",
   "metadata": {},
   "outputs": [],
   "source": [
    "\n",
    "\n",
    "Sustituye todas las apariciones de et por ET del archivo at.txt dentro de la carpeta lorem-copy. Deberás usar sed.\n",
    "\n",
    "get-content sed.txt | %{$_ -replace \"et\",\"ET\"} "
   ]
  },
  {
   "cell_type": "code",
   "execution_count": null,
   "id": "3ca40964",
   "metadata": {},
   "outputs": [],
   "source": [
    "\n",
    "\n",
    "Encuentra al usuario activo en el sistema.\n",
    "\n",
    "\n",
    "whoami"
   ]
  },
  {
   "cell_type": "code",
   "execution_count": null,
   "id": "37347070",
   "metadata": {},
   "outputs": [],
   "source": [
    "\n",
    "\n",
    "Encuentra dónde estás en tu sistema de ficheros.\n",
    "\n",
    "pwd"
   ]
  },
  {
   "cell_type": "code",
   "execution_count": null,
   "id": "14f40f57",
   "metadata": {},
   "outputs": [],
   "source": [
    "\n",
    "\n",
    "Lista los archivos que terminan por .txt en la carpeta lorem.\n",
    "\n",
    "find . -name \".\\*.txt\""
   ]
  },
  {
   "cell_type": "code",
   "execution_count": null,
   "id": "8a7000e3",
   "metadata": {},
   "outputs": [],
   "source": [
    "\n",
    "\n",
    "Cuenta el número de líneas que tiene el archivo sed.txt dentro de la carpeta lorem.\n",
    "\n",
    "(Get-Content sed.txt).Length"
   ]
  },
  {
   "cell_type": "code",
   "execution_count": null,
   "id": "e5cf8231",
   "metadata": {},
   "outputs": [],
   "source": [
    "\n",
    "\n",
    "Cuenta el número de archivos que empiezan por lorem que están en este directorio y en directorios internos.\n",
    "\n",
    "(get-childitem -filter \"lorem*\").count"
   ]
  },
  {
   "cell_type": "code",
   "execution_count": 1,
   "id": "720bb900",
   "metadata": {},
   "outputs": [
    {
     "ename": "SyntaxError",
     "evalue": "invalid syntax (3513177432.py, line 1)",
     "output_type": "error",
     "traceback": [
      "\u001b[1;36m  File \u001b[1;32m\"C:\\Users\\jorge\\AppData\\Local\\Temp\\ipykernel_16240\\3513177432.py\"\u001b[1;36m, line \u001b[1;32m1\u001b[0m\n\u001b[1;33m    Encuentra todas las apariciones de et en at.txt dentro de la carpeta lorem.\u001b[0m\n\u001b[1;37m              ^\u001b[0m\n\u001b[1;31mSyntaxError\u001b[0m\u001b[1;31m:\u001b[0m invalid syntax\n"
     ]
    }
   ],
   "source": [
    "Encuentra todas las apariciones de et en at.txt dentro de la carpeta lorem.\n",
    "\n",
    "(select-string at.txt -Pattern \"et\" -AllMatches).matches.count"
   ]
  },
  {
   "cell_type": "code",
   "execution_count": null,
   "id": "6b52c6e0",
   "metadata": {},
   "outputs": [],
   "source": [
    "Cuenta el número de apariciones del string et en at.txt dentro de la carpeta lorem.\n",
    "\n",
    "(select-string at.txt -Pattern \"at\" -AllMatches).matches.count\n"
   ]
  },
  {
   "cell_type": "code",
   "execution_count": null,
   "id": "79d817d5",
   "metadata": {},
   "outputs": [],
   "source": [
    "Cuenta el número de apariciones del string et en todos los archivos del directorio lorem-copy.\n",
    "\n",
    "(select-string at.txt,sed.txt,lorem.txt -Pattern \"et\" -AllMatches).matches.count\n"
   ]
  },
  {
   "cell_type": "code",
   "execution_count": null,
   "id": "f71d5473",
   "metadata": {},
   "outputs": [],
   "source": []
  }
 ],
 "metadata": {
  "kernelspec": {
   "display_name": "Python 3 (ipykernel)",
   "language": "python",
   "name": "python3"
  },
  "language_info": {
   "codemirror_mode": {
    "name": "ipython",
    "version": 3
   },
   "file_extension": ".py",
   "mimetype": "text/x-python",
   "name": "python",
   "nbconvert_exporter": "python",
   "pygments_lexer": "ipython3",
   "version": "3.9.13"
  }
 },
 "nbformat": 4,
 "nbformat_minor": 5
}
