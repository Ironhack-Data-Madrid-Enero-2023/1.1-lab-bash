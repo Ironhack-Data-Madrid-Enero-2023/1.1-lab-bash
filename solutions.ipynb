{
 "cells": [
  {
   "cell_type": "code",
   "execution_count": null,
   "id": "6c7c005c",
   "metadata": {},
   "outputs": [],
   "source": [
    "Imprime en consola Hello World."
   ]
  },
  {
   "cell_type": "code",
   "execution_count": null,
   "id": "e3f26e5e",
   "metadata": {},
   "outputs": [],
   "source": [
    "print \"Hello World\""
   ]
  },
  {
   "cell_type": "code",
   "execution_count": null,
   "id": "9fbd7357",
   "metadata": {},
   "outputs": [],
   "source": []
  },
  {
   "cell_type": "code",
   "execution_count": null,
   "id": "8252c2a2",
   "metadata": {},
   "outputs": [],
   "source": [
    "Crea un directorio nuevo llamado new_dir."
   ]
  },
  {
   "cell_type": "code",
   "execution_count": null,
   "id": "afbd92d5",
   "metadata": {},
   "outputs": [],
   "source": [
    "mkdir new_dir"
   ]
  },
  {
   "cell_type": "code",
   "execution_count": null,
   "id": "d5b21ae2",
   "metadata": {},
   "outputs": [],
   "source": []
  },
  {
   "cell_type": "code",
   "execution_count": null,
   "id": "e016ce62",
   "metadata": {},
   "outputs": [],
   "source": [
    "Elimina ese directorio."
   ]
  },
  {
   "cell_type": "code",
   "execution_count": null,
   "id": "69780366",
   "metadata": {},
   "outputs": [],
   "source": [
    "rm -r new_dir"
   ]
  },
  {
   "cell_type": "code",
   "execution_count": null,
   "id": "93d4eef7",
   "metadata": {},
   "outputs": [],
   "source": []
  },
  {
   "cell_type": "code",
   "execution_count": null,
   "id": "e0973abb",
   "metadata": {},
   "outputs": [],
   "source": [
    "Copia el archivo sed.txt dentro de la carpeta lorem a la carpeta lorem-copy."
   ]
  },
  {
   "cell_type": "code",
   "execution_count": null,
   "id": "dc3e4359",
   "metadata": {},
   "outputs": [],
   "source": [
    "cp sed.txt \"/Users/jorgefreire/Library/Mobile Documents/com~apple~CloudDocs/IronHack/S1_Python/1.1-lab-bash/lorem-copy\""
   ]
  },
  {
   "cell_type": "code",
   "execution_count": null,
   "id": "f9de0844",
   "metadata": {},
   "outputs": [],
   "source": []
  },
  {
   "cell_type": "code",
   "execution_count": null,
   "id": "a6573eab",
   "metadata": {},
   "outputs": [],
   "source": [
    "Copia los otros dos archivos de la carpeta lorem a la carpeta lorem-copy en una sola línea."
   ]
  },
  {
   "cell_type": "code",
   "execution_count": null,
   "id": "f4c7012b",
   "metadata": {},
   "outputs": [],
   "source": [
    "cp at.txt lorem.txt \"/Users/jorgefreire/Library/Mobile Documents/com~apple~CloudDocs/IronHack/S1_Python/1.1-lab-bash/lorem-copy\""
   ]
  },
  {
   "cell_type": "code",
   "execution_count": null,
   "id": "8444defe",
   "metadata": {},
   "outputs": [],
   "source": []
  },
  {
   "cell_type": "code",
   "execution_count": null,
   "id": "ddef3cf0",
   "metadata": {},
   "outputs": [],
   "source": [
    "Muestra el contenido del archivo sed.txt dentro de la carpeta lorem."
   ]
  },
  {
   "cell_type": "code",
   "execution_count": null,
   "id": "d7e462ec",
   "metadata": {},
   "outputs": [],
   "source": [
    "cat sed.txt"
   ]
  },
  {
   "cell_type": "code",
   "execution_count": null,
   "id": "5d0b98af",
   "metadata": {},
   "outputs": [],
   "source": []
  },
  {
   "cell_type": "code",
   "execution_count": null,
   "id": "a544d872",
   "metadata": {},
   "outputs": [],
   "source": [
    "Muestra el contenido de los archivos at.txt y lorem.txt dentro de la carpeta lorem."
   ]
  },
  {
   "cell_type": "code",
   "execution_count": null,
   "id": "22b92e8a",
   "metadata": {},
   "outputs": [],
   "source": [
    "cat at.txt lorem.txt"
   ]
  },
  {
   "cell_type": "code",
   "execution_count": null,
   "id": "80106188",
   "metadata": {},
   "outputs": [],
   "source": []
  },
  {
   "cell_type": "code",
   "execution_count": null,
   "id": "bd7002e7",
   "metadata": {},
   "outputs": [],
   "source": [
    "Visualiza las primeras 3 líneas del archivo sed.txt dentro de la carpeta lorem-copy"
   ]
  },
  {
   "cell_type": "code",
   "execution_count": null,
   "id": "f5a2bf31",
   "metadata": {},
   "outputs": [],
   "source": [
    "head -n 3 sed.txt  "
   ]
  },
  {
   "cell_type": "code",
   "execution_count": null,
   "id": "c675fd7b",
   "metadata": {},
   "outputs": [],
   "source": []
  },
  {
   "cell_type": "code",
   "execution_count": null,
   "id": "3e70cd05",
   "metadata": {},
   "outputs": [],
   "source": [
    "Visualiza las ultimas 3 líneas del archivo sed.txt dentro de la carpeta lorem-copy"
   ]
  },
  {
   "cell_type": "code",
   "execution_count": null,
   "id": "82d11b18",
   "metadata": {},
   "outputs": [],
   "source": [
    "tail -n 3 sed.txt "
   ]
  },
  {
   "cell_type": "code",
   "execution_count": null,
   "id": "4ba45813",
   "metadata": {},
   "outputs": [],
   "source": []
  },
  {
   "cell_type": "code",
   "execution_count": null,
   "id": "ff2bf78c",
   "metadata": {},
   "outputs": [],
   "source": [
    "Añade Homo homini lupus. al final de archivo sed.txt dentro de la carpeta lorem-copy."
   ]
  },
  {
   "cell_type": "code",
   "execution_count": null,
   "id": "716de74a",
   "metadata": {},
   "outputs": [],
   "source": [
    "echo \"Homo homini lupus.\" >> sed.txt  "
   ]
  },
  {
   "cell_type": "code",
   "execution_count": null,
   "id": "e5770cdf",
   "metadata": {},
   "outputs": [],
   "source": []
  },
  {
   "cell_type": "code",
   "execution_count": null,
   "id": "f51bf55c",
   "metadata": {},
   "outputs": [],
   "source": [
    "Visualiza las últimas 3 líneas del archivo sed.txt dentro de la carpeta lorem-copy. Deberías ver ahora Homo homini lupus.."
   ]
  },
  {
   "cell_type": "code",
   "execution_count": null,
   "id": "96c3758f",
   "metadata": {},
   "outputs": [],
   "source": [
    "tail -n 3 sed.txt "
   ]
  },
  {
   "cell_type": "code",
   "execution_count": null,
   "id": "7979b5d0",
   "metadata": {},
   "outputs": [],
   "source": []
  },
  {
   "cell_type": "code",
   "execution_count": null,
   "id": "84d59db5",
   "metadata": {},
   "outputs": [],
   "source": [
    "Sustituye todas las apariciones de et por ET del archivo at.txt dentro de la carpeta lorem-copy. Deberás usar sed."
   ]
  },
  {
   "cell_type": "code",
   "execution_count": null,
   "id": "a7663454",
   "metadata": {},
   "outputs": [],
   "source": [
    "sed 's/et/ET/g' at.txt"
   ]
  },
  {
   "cell_type": "code",
   "execution_count": null,
   "id": "e278eff8",
   "metadata": {},
   "outputs": [],
   "source": []
  },
  {
   "cell_type": "code",
   "execution_count": null,
   "id": "d91eaa19",
   "metadata": {},
   "outputs": [],
   "source": [
    "Encuentra al usuario activo en el sistema."
   ]
  },
  {
   "cell_type": "code",
   "execution_count": null,
   "id": "92576c54",
   "metadata": {},
   "outputs": [],
   "source": [
    "who"
   ]
  },
  {
   "cell_type": "code",
   "execution_count": null,
   "id": "e8211de9",
   "metadata": {},
   "outputs": [],
   "source": []
  },
  {
   "cell_type": "code",
   "execution_count": null,
   "id": "8e3b8e58",
   "metadata": {},
   "outputs": [],
   "source": [
    "Encuentra dónde estás en tu sistema de ficheros."
   ]
  },
  {
   "cell_type": "code",
   "execution_count": null,
   "id": "a4222d3e",
   "metadata": {},
   "outputs": [],
   "source": [
    "pwd"
   ]
  },
  {
   "cell_type": "code",
   "execution_count": null,
   "id": "331993ce",
   "metadata": {},
   "outputs": [],
   "source": []
  },
  {
   "cell_type": "code",
   "execution_count": null,
   "id": "3bb93d4b",
   "metadata": {},
   "outputs": [],
   "source": [
    "Lista los archivos que terminan por .txt en la carpeta lorem."
   ]
  },
  {
   "cell_type": "code",
   "execution_count": null,
   "id": "8eb5097f",
   "metadata": {},
   "outputs": [],
   "source": [
    "ls -l *txt"
   ]
  },
  {
   "cell_type": "code",
   "execution_count": null,
   "id": "d836338e",
   "metadata": {},
   "outputs": [],
   "source": []
  },
  {
   "cell_type": "code",
   "execution_count": null,
   "id": "8bd9598f",
   "metadata": {},
   "outputs": [],
   "source": [
    "Cuenta el número de líneas que tiene el archivo sed.txt dentro de la carpeta lorem."
   ]
  },
  {
   "cell_type": "code",
   "execution_count": null,
   "id": "5d47750a",
   "metadata": {},
   "outputs": [],
   "source": [
    "wc -l sed.txt"
   ]
  },
  {
   "cell_type": "code",
   "execution_count": null,
   "id": "772b8665",
   "metadata": {},
   "outputs": [],
   "source": []
  },
  {
   "cell_type": "code",
   "execution_count": null,
   "id": "00e1f199",
   "metadata": {},
   "outputs": [],
   "source": [
    "Cuenta el número de archivos que empiezan por lorem que están en este directorio y en directorios internos."
   ]
  },
  {
   "cell_type": "code",
   "execution_count": null,
   "id": "3047fc0d",
   "metadata": {},
   "outputs": [],
   "source": [
    "find . -name \"lorem*\" -type f | wc -l"
   ]
  },
  {
   "cell_type": "code",
   "execution_count": null,
   "id": "aa353a2a",
   "metadata": {},
   "outputs": [],
   "source": []
  },
  {
   "cell_type": "code",
   "execution_count": null,
   "id": "cca1e892",
   "metadata": {},
   "outputs": [],
   "source": [
    "Encuentra todas las apariciones de et en at.txt dentro de la carpeta lorem."
   ]
  },
  {
   "cell_type": "code",
   "execution_count": null,
   "id": "ecb5a857",
   "metadata": {},
   "outputs": [],
   "source": [
    "grep \"et\" at.txt "
   ]
  },
  {
   "cell_type": "code",
   "execution_count": null,
   "id": "893df2f3",
   "metadata": {},
   "outputs": [],
   "source": []
  },
  {
   "cell_type": "code",
   "execution_count": null,
   "id": "8f433121",
   "metadata": {},
   "outputs": [],
   "source": [
    "Cuenta el número de apariciones del string et en at.txt dentro de la carpeta lorem."
   ]
  },
  {
   "cell_type": "code",
   "execution_count": null,
   "id": "2b8e169d",
   "metadata": {},
   "outputs": [],
   "source": [
    "grep -o \"et\" at.txt | wc"
   ]
  },
  {
   "cell_type": "code",
   "execution_count": null,
   "id": "db94722e",
   "metadata": {},
   "outputs": [],
   "source": []
  },
  {
   "cell_type": "code",
   "execution_count": null,
   "id": "81776a40",
   "metadata": {},
   "outputs": [],
   "source": [
    "Cuenta el número de apariciones del string et en todos los archivos del directorio lorem-copy."
   ]
  },
  {
   "cell_type": "code",
   "execution_count": null,
   "id": "74dc2c03",
   "metadata": {},
   "outputs": [],
   "source": [
    "grep -o \"et\" at.txt sed.txt lorem.txt | wc"
   ]
  },
  {
   "cell_type": "code",
   "execution_count": null,
   "id": "b75e61f4",
   "metadata": {},
   "outputs": [],
   "source": []
  },
  {
   "cell_type": "code",
   "execution_count": null,
   "id": "dc807264",
   "metadata": {},
   "outputs": [],
   "source": [
    "BONUS"
   ]
  },
  {
   "cell_type": "code",
   "execution_count": null,
   "id": "66296768",
   "metadata": {},
   "outputs": [],
   "source": []
  },
  {
   "cell_type": "code",
   "execution_count": null,
   "id": "bac8a158",
   "metadata": {},
   "outputs": [],
   "source": [
    "Almacena en una variable name tu nombre."
   ]
  },
  {
   "cell_type": "code",
   "execution_count": null,
   "id": "d99abff1",
   "metadata": {},
   "outputs": [],
   "source": [
    "name=\"Jorge\""
   ]
  },
  {
   "cell_type": "code",
   "execution_count": null,
   "id": "b43ba0d5",
   "metadata": {},
   "outputs": [],
   "source": []
  },
  {
   "cell_type": "code",
   "execution_count": null,
   "id": "abd3ead3",
   "metadata": {},
   "outputs": [],
   "source": [
    "Imprime esa variable."
   ]
  },
  {
   "cell_type": "code",
   "execution_count": null,
   "id": "c770cdf5",
   "metadata": {},
   "outputs": [],
   "source": [
    "echo $name"
   ]
  },
  {
   "cell_type": "code",
   "execution_count": null,
   "id": "46b6b2fd",
   "metadata": {},
   "outputs": [],
   "source": []
  },
  {
   "cell_type": "code",
   "execution_count": null,
   "id": "cf7777ea",
   "metadata": {},
   "outputs": [],
   "source": [
    "Crea un directorio nuevo que se llame como el contenido de la variable name."
   ]
  },
  {
   "cell_type": "code",
   "execution_count": null,
   "id": "9acd6d86",
   "metadata": {},
   "outputs": [],
   "source": [
    "mkdir $name"
   ]
  },
  {
   "cell_type": "code",
   "execution_count": null,
   "id": "8b3f8a17",
   "metadata": {},
   "outputs": [],
   "source": []
  },
  {
   "cell_type": "code",
   "execution_count": null,
   "id": "2a784fc7",
   "metadata": {},
   "outputs": [],
   "source": [
    "Elimina ese directorio."
   ]
  },
  {
   "cell_type": "code",
   "execution_count": null,
   "id": "4d536644",
   "metadata": {},
   "outputs": [],
   "source": [
    "rm -r $name"
   ]
  },
  {
   "cell_type": "code",
   "execution_count": null,
   "id": "2d9fdbec",
   "metadata": {},
   "outputs": [],
   "source": []
  },
  {
   "cell_type": "code",
   "execution_count": null,
   "id": "b1608407",
   "metadata": {},
   "outputs": [],
   "source": [
    "Muestra los procesos de forma jerárquica que se están ejecutando en tu ordenador"
   ]
  },
  {
   "cell_type": "code",
   "execution_count": null,
   "id": "3890b2f9",
   "metadata": {},
   "outputs": [],
   "source": [
    "top\n",
    "\n",
    "ps -ej"
   ]
  },
  {
   "cell_type": "code",
   "execution_count": null,
   "id": "e42d2ff0",
   "metadata": {},
   "outputs": [],
   "source": []
  },
  {
   "cell_type": "code",
   "execution_count": null,
   "id": "d7249423",
   "metadata": {},
   "outputs": [],
   "source": [
    "Muestra información sobre tu procesador por pantalla"
   ]
  },
  {
   "cell_type": "code",
   "execution_count": null,
   "id": "2c217403",
   "metadata": {},
   "outputs": [],
   "source": [
    "system_profiler"
   ]
  },
  {
   "cell_type": "code",
   "execution_count": null,
   "id": "83caf136",
   "metadata": {},
   "outputs": [],
   "source": []
  },
  {
   "cell_type": "code",
   "execution_count": null,
   "id": "4c1ff827",
   "metadata": {},
   "outputs": [],
   "source": [
    "Crea 3 alias y haz que estén disponibles cada vez que inicias sesión"
   ]
  },
  {
   "cell_type": "code",
   "execution_count": null,
   "id": "cdcb7308",
   "metadata": {},
   "outputs": [],
   "source": [
    "nano ~/.bashrc\n",
    "\n",
    "\n",
    "alias cloud=\"cd ~/Library/Mobile\\ Documents/com~apple~CloudDocs/\"\n",
    "\n",
    "alias \"git add .\"=gaa  \n",
    "\n",
    "alias \"git commit -m\"=gc \n",
    "\n",
    "\n",
    "source ~/.bashrc"
   ]
  },
  {
   "cell_type": "code",
   "execution_count": null,
   "id": "939568e7",
   "metadata": {},
   "outputs": [],
   "source": []
  },
  {
   "cell_type": "code",
   "execution_count": null,
   "id": "4402b067",
   "metadata": {},
   "outputs": [],
   "source": [
    "Comprime las carpetas lorem y lorem-copy en un archivo llamado lorem-compressed.tar.gz"
   ]
  },
  {
   "cell_type": "code",
   "execution_count": null,
   "id": "52b2e825",
   "metadata": {},
   "outputs": [],
   "source": [
    "tar -czf lorem-compressed.tar.gz lorem lorem-copy "
   ]
  },
  {
   "cell_type": "code",
   "execution_count": null,
   "id": "85452bce",
   "metadata": {},
   "outputs": [],
   "source": []
  },
  {
   "cell_type": "code",
   "execution_count": null,
   "id": "8b299ad6",
   "metadata": {},
   "outputs": [],
   "source": [
    "Descomprime el archivo lorem-compressed.tar.gz en la carpeta lorem-uncompressed"
   ]
  },
  {
   "cell_type": "code",
   "execution_count": null,
   "id": "383e4d74",
   "metadata": {},
   "outputs": [],
   "source": [
    "mkdir lorem-uncompressed\n",
    "\n",
    "tar -xzf lorem-compressed.tar.gz -C lorem-uncompressed "
   ]
  },
  {
   "cell_type": "code",
   "execution_count": null,
   "id": "3f1f5d35",
   "metadata": {},
   "outputs": [],
   "source": []
  },
  {
   "cell_type": "code",
   "execution_count": null,
   "id": "2315833c",
   "metadata": {},
   "outputs": [],
   "source": [
    "Crea un script bash para imprimir los numeros de 1 a 100"
   ]
  },
  {
   "cell_type": "code",
   "execution_count": null,
   "id": "651260ea",
   "metadata": {},
   "outputs": [],
   "source": [
    "for i in {1..100}\n",
    "do\n",
    "  echo $i\n",
    "done"
   ]
  }
 ],
 "metadata": {
  "kernelspec": {
   "display_name": "Python 3 (ipykernel)",
   "language": "python",
   "name": "python3"
  },
  "language_info": {
   "codemirror_mode": {
    "name": "ipython",
    "version": 3
   },
   "file_extension": ".py",
   "mimetype": "text/x-python",
   "name": "python",
   "nbconvert_exporter": "python",
   "pygments_lexer": "ipython3",
   "version": "3.9.13"
  }
 },
 "nbformat": 4,
 "nbformat_minor": 5
}
