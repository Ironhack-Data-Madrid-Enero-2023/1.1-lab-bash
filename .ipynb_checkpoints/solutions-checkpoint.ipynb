{
 "cells": [
  {
   "cell_type": "code",
   "execution_count": null,
   "id": "c5d64bce",
   "metadata": {},
   "outputs": [],
   "source": [
    "Ubícate en la carpeta en la que ejecutando en el terminal. Al ejecutar ls"
   ]
  },
  {
   "cell_type": "code",
   "execution_count": null,
   "id": "723cc521",
   "metadata": {},
   "outputs": [],
   "source": [
    "paula@LAPTOP-H23JKSL2 MINGW64 ~/ironhack/1.1-lab-bash (main)\n",
    "$ ls"
   ]
  },
  {
   "cell_type": "code",
   "execution_count": null,
   "id": "5ce6fb17",
   "metadata": {},
   "outputs": [],
   "source": [
    "Imprime en consola Hello World"
   ]
  },
  {
   "cell_type": "code",
   "execution_count": null,
   "id": "c5f36a70",
   "metadata": {},
   "outputs": [],
   "source": [
    "$ echo \"Hello World\"\n",
    "Hello World"
   ]
  },
  {
   "cell_type": "code",
   "execution_count": null,
   "id": "274798da",
   "metadata": {},
   "outputs": [],
   "source": [
    "Crea un directorio nuevo llamado new_dir."
   ]
  },
  {
   "cell_type": "code",
   "execution_count": null,
   "id": "10c3e7c2",
   "metadata": {},
   "outputs": [],
   "source": [
    "$ mkdir new_dir"
   ]
  },
  {
   "cell_type": "code",
   "execution_count": null,
   "id": "2519c6ae",
   "metadata": {},
   "outputs": [],
   "source": [
    "Elimina ese directorio."
   ]
  },
  {
   "cell_type": "code",
   "execution_count": null,
   "id": "50927840",
   "metadata": {},
   "outputs": [],
   "source": [
    "$ rm -r new_dir"
   ]
  },
  {
   "cell_type": "code",
   "execution_count": null,
   "id": "5a2efd0b",
   "metadata": {},
   "outputs": [],
   "source": [
    "Copia el archivo sed.txt dentro de la carpeta lorem a la carpeta lorem-copy. TIP: Puede ser necesario crear la carpeta lorem-copy primero."
   ]
  },
  {
   "cell_type": "code",
   "execution_count": null,
   "id": "597b03dd",
   "metadata": {},
   "outputs": [],
   "source": [
    "$ cp sed.txt ~/ironhack/1.1-lab-bash/lorem-copy"
   ]
  },
  {
   "cell_type": "code",
   "execution_count": null,
   "id": "ba0b34c7",
   "metadata": {},
   "outputs": [],
   "source": [
    "Copia los otros dos archivos de la carpeta lorem a la carpeta lorem-copy en una sola línea."
   ]
  },
  {
   "cell_type": "code",
   "execution_count": null,
   "id": "5118e55c",
   "metadata": {},
   "outputs": [],
   "source": [
    "$ cp at.txt lorem.txt ~/ironhack/1.1-lab-bash/lorem-copy"
   ]
  },
  {
   "cell_type": "code",
   "execution_count": null,
   "id": "ad41f3db",
   "metadata": {},
   "outputs": [],
   "source": [
    "Muestra el contenido del archivo sed.txt dentro de la carpeta lorem."
   ]
  },
  {
   "cell_type": "code",
   "execution_count": null,
   "id": "a81e5294",
   "metadata": {},
   "outputs": [],
   "source": [
    "$ cat sed.txt"
   ]
  },
  {
   "cell_type": "code",
   "execution_count": null,
   "id": "7bf2eff6",
   "metadata": {},
   "outputs": [],
   "source": [
    "Muestra el contenido de los archivos at.txt y lorem.txt dentro de la carpeta lorem."
   ]
  },
  {
   "cell_type": "code",
   "execution_count": null,
   "id": "41f2341f",
   "metadata": {},
   "outputs": [],
   "source": [
    "$ cat at.txt lorem.txt"
   ]
  },
  {
   "cell_type": "code",
   "execution_count": null,
   "id": "b0055482",
   "metadata": {},
   "outputs": [],
   "source": [
    "Visualiza las primeras 3 líneas del archivo sed.txt dentro de la carpeta lorem-copy"
   ]
  },
  {
   "cell_type": "code",
   "execution_count": null,
   "id": "ea6048aa",
   "metadata": {},
   "outputs": [],
   "source": [
    "$ head -n 3 sed.txt"
   ]
  },
  {
   "cell_type": "code",
   "execution_count": null,
   "id": "5339a305",
   "metadata": {},
   "outputs": [],
   "source": [
    "Visualiza las ultimas 3 líneas del archivo sed.txt dentro de la carpeta lorem-copy"
   ]
  },
  {
   "cell_type": "code",
   "execution_count": null,
   "id": "7c2bab85",
   "metadata": {},
   "outputs": [],
   "source": [
    "$ tail -n 3 sed.txt"
   ]
  },
  {
   "cell_type": "code",
   "execution_count": null,
   "id": "018d9545",
   "metadata": {},
   "outputs": [],
   "source": [
    "Añade Homo homini lupus. al final de archivo sed.txt dentro de la carpeta lorem-copy."
   ]
  },
  {
   "cell_type": "code",
   "execution_count": null,
   "id": "c08f5f51",
   "metadata": {},
   "outputs": [],
   "source": [
    "$ echo \"Homo homini lupus\" >> sed.txt"
   ]
  },
  {
   "cell_type": "code",
   "execution_count": null,
   "id": "a0a8b6d1",
   "metadata": {},
   "outputs": [],
   "source": [
    "Visualiza las últimas 3 líneas del archivo sed.txt dentro de la carpeta lorem-copy. Deberías ver ahora Homo homini lupus.."
   ]
  },
  {
   "cell_type": "code",
   "execution_count": null,
   "id": "f3edbd61",
   "metadata": {},
   "outputs": [],
   "source": [
    "$ tail -n 3 sed.txt"
   ]
  },
  {
   "cell_type": "code",
   "execution_count": null,
   "id": "e563783a",
   "metadata": {},
   "outputs": [],
   "source": [
    "Sustituye todas las apariciones de et por ET del archivo at.txt dentro de la carpeta lorem-copy. Deberás usar sed."
   ]
  },
  {
   "cell_type": "code",
   "execution_count": null,
   "id": "91370016",
   "metadata": {},
   "outputs": [],
   "source": [
    "$ sed 's/et/ET/g' at.txt"
   ]
  },
  {
   "cell_type": "code",
   "execution_count": null,
   "id": "6784ddb6",
   "metadata": {},
   "outputs": [],
   "source": [
    "Encuentra al usuario activo en el sistema."
   ]
  },
  {
   "cell_type": "code",
   "execution_count": null,
   "id": "04a52ab0",
   "metadata": {},
   "outputs": [],
   "source": [
    "$ whoami"
   ]
  },
  {
   "cell_type": "code",
   "execution_count": null,
   "id": "08cdfcf9",
   "metadata": {},
   "outputs": [],
   "source": [
    "Encuentra dónde estás en tu sistema de ficheros."
   ]
  },
  {
   "cell_type": "code",
   "execution_count": null,
   "id": "0878671c",
   "metadata": {},
   "outputs": [],
   "source": [
    "$ pwd"
   ]
  },
  {
   "cell_type": "code",
   "execution_count": null,
   "id": "efa47b99",
   "metadata": {},
   "outputs": [],
   "source": [
    "Lista los archivos que terminan por .txt en la carpeta lorem."
   ]
  },
  {
   "cell_type": "code",
   "execution_count": null,
   "id": "75790733",
   "metadata": {},
   "outputs": [],
   "source": [
    "$ ls *.txt"
   ]
  },
  {
   "cell_type": "code",
   "execution_count": null,
   "id": "1cd81176",
   "metadata": {},
   "outputs": [],
   "source": [
    "Cuenta el número de líneas que tiene el archivo sed.txt dentro de la carpeta lorem"
   ]
  },
  {
   "cell_type": "code",
   "execution_count": null,
   "id": "2e621651",
   "metadata": {},
   "outputs": [],
   "source": [
    "$ wc sed.txt"
   ]
  },
  {
   "cell_type": "code",
   "execution_count": null,
   "id": "cb5fcc1f",
   "metadata": {},
   "outputs": [],
   "source": [
    "Cuenta el número de archivos que empiezan por lorem que están en este directorio y en directorios internos."
   ]
  },
  {
   "cell_type": "code",
   "execution_count": null,
   "id": "19fbf95d",
   "metadata": {},
   "outputs": [],
   "source": [
    "$ find . -name 'lorem*' | wc -l"
   ]
  },
  {
   "cell_type": "code",
   "execution_count": null,
   "id": "18966f61",
   "metadata": {},
   "outputs": [],
   "source": [
    "Encuentra todas las apariciones de et en at.txt dentro de la carpeta lorem."
   ]
  },
  {
   "cell_type": "code",
   "execution_count": null,
   "id": "14fa863a",
   "metadata": {},
   "outputs": [],
   "source": [
    "$ grep et at.txt"
   ]
  },
  {
   "cell_type": "code",
   "execution_count": null,
   "id": "db9a09f7",
   "metadata": {},
   "outputs": [],
   "source": [
    "Cuenta el número de apariciones del string et en at.txt dentro de la carpeta lorem."
   ]
  },
  {
   "cell_type": "code",
   "execution_count": null,
   "id": "d1a52503",
   "metadata": {},
   "outputs": [],
   "source": [
    "$ grep -c \"et\" at.txt"
   ]
  },
  {
   "cell_type": "code",
   "execution_count": null,
   "id": "36bc301c",
   "metadata": {},
   "outputs": [],
   "source": [
    "Cuenta el número de apariciones del string et en todos los archivos del directorio lorem-copy."
   ]
  },
  {
   "cell_type": "code",
   "execution_count": null,
   "id": "304a2684",
   "metadata": {},
   "outputs": [],
   "source": [
    "$ grep -r 'et' lorem-copy | wc -l"
   ]
  },
  {
   "cell_type": "code",
   "execution_count": null,
   "id": "5a54567d",
   "metadata": {},
   "outputs": [],
   "source": [
    "$ touch list_files.sh"
   ]
  },
  {
   "cell_type": "code",
   "execution_count": null,
   "id": "4d81543c",
   "metadata": {},
   "outputs": [],
   "source": [
    "$ echo ls >> list_files.sh"
   ]
  },
  {
   "cell_type": "code",
   "execution_count": null,
   "id": "b8dbd6c2",
   "metadata": {},
   "outputs": [],
   "source": [
    "$ bash list_files.sh"
   ]
  },
  {
   "cell_type": "code",
   "execution_count": null,
   "id": "947e149a",
   "metadata": {},
   "outputs": [],
   "source": []
  },
  {
   "cell_type": "code",
   "execution_count": null,
   "id": "7cb00290",
   "metadata": {},
   "outputs": [],
   "source": []
  }
 ],
 "metadata": {
  "kernelspec": {
   "display_name": "Python 3 (ipykernel)",
   "language": "python",
   "name": "python3"
  },
  "language_info": {
   "codemirror_mode": {
    "name": "ipython",
    "version": 3
   },
   "file_extension": ".py",
   "mimetype": "text/x-python",
   "name": "python",
   "nbconvert_exporter": "python",
   "pygments_lexer": "ipython3",
   "version": "3.9.13"
  }
 },
 "nbformat": 4,
 "nbformat_minor": 5
}
