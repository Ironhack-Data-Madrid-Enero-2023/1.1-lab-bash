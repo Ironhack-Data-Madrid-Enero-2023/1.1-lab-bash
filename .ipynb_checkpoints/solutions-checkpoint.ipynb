{
 "cells": [
  {
   "cell_type": "markdown",
   "id": "9fabb241",
   "metadata": {},
   "source": [
    "1# Imprime en consola Hello World.\n",
    " echo 'Hello World'"
   ]
  },
  {
   "cell_type": "markdown",
   "id": "53af554e",
   "metadata": {},
   "source": [
    "2# Crea un directorio nuevo llamado new_dir\n",
    "mkdir new_dir"
   ]
  },
  {
   "cell_type": "markdown",
   "id": "8397c32f",
   "metadata": {},
   "source": [
    "3# Elimina ese directorio.\n",
    "rm new_dir"
   ]
  },
  {
   "cell_type": "markdown",
   "id": "0ca05ae0",
   "metadata": {},
   "source": [
    "4# Copia el archivo sed.txt dentro de la carpeta lorem a la carpeta lorem-copy. TIP: Puede ser necesario crear la carpeta lorem-copy primero.\n",
    "cp lorem/sed.txt lorem_copy"
   ]
  },
  {
   "cell_type": "markdown",
   "id": "1393ed20",
   "metadata": {},
   "source": [
    "5# Copia los otros dos archivos de la carpeta lorem a la carpeta lorem-copy en una sola línea.\n",
    "cp lorem/at.txt lorem_copy\n",
    "cp lorem/lorem.txt lorem_copy"
   ]
  },
  {
   "cell_type": "markdown",
   "id": "d7357ee2",
   "metadata": {},
   "source": [
    "6# Muestra el contenido del archivo sed.txt dentro de la carpeta lorem.\n",
    "cat lorem/sed.txt"
   ]
  },
  {
   "cell_type": "markdown",
   "id": "372e81d4",
   "metadata": {},
   "source": [
    "7# Muestra el contenido de los archivos at.txt y lorem.txt dentro de la carpeta lorem.\n",
    "cat lorem/at.txt     cat lorem/lorem.txt"
   ]
  },
  {
   "cell_type": "markdown",
   "id": "cb2b7842",
   "metadata": {},
   "source": [
    "8# Visualiza las primeras 3 líneas del archivo sed.txt dentro de la carpeta lorem-copy\n",
    "get-content lorem_copy/sed.txt -head 3"
   ]
  },
  {
   "cell_type": "markdown",
   "id": "44ddc73b",
   "metadata": {},
   "source": [
    "9# Visualiza las ultimas 3 líneas del archivo sed.txt dentro de la carpeta lorem-copy\n",
    "get-content lorem_copy/sed.txt -tail 3"
   ]
  },
  {
   "cell_type": "markdown",
   "id": "64353527",
   "metadata": {},
   "source": [
    "10# Añade Homo homini lupus. al final de archivo sed.txt dentro de la carpeta lorem-copy.\n",
    "Add-Content lorem_copy/sed.txt -'Homo homini lupus'."
   ]
  },
  {
   "cell_type": "markdown",
   "id": "b6169ed5",
   "metadata": {},
   "source": [
    "11#Visualiza las últimas 3 líneas del archivo sed.txt dentro de la carpeta lorem-copy. Deberías ver ahora Homo homini lupus.\n",
    "get-content lorem_copy/sed.txt -tail 3"
   ]
  },
  {
   "cell_type": "markdown",
   "id": "9627755d",
   "metadata": {},
   "source": [
    "12#Sustituye todas las apariciones de et por ET del archivo at.txt dentro de la carpeta lorem-copy. Deberás usar sed\n",
    "get-content lorem_copy/at.txt | %{$_ -replace 'et','ET'}"
   ]
  },
  {
   "cell_type": "markdown",
   "id": "fe7a974e",
   "metadata": {},
   "source": [
    "13#Encuentra al usuario activo en el sistema.\n",
    "who"
   ]
  },
  {
   "cell_type": "markdown",
   "id": "61cf7c79",
   "metadata": {},
   "source": [
    "14#Encuentra dónde estás en tu sistema de ficheros.\n",
    "pwd"
   ]
  },
  {
   "cell_type": "markdown",
   "id": "702808ae",
   "metadata": {},
   "source": [
    "15#Lista los archivos que terminan por .txt en la carpeta lorem.\n",
    "Get-ChildItem lorem -Filter *.txt | Measure-Object"
   ]
  },
  {
   "cell_type": "markdown",
   "id": "fa511aa4",
   "metadata": {},
   "source": [
    "16#Cuenta el número de líneas que tiene el archivo sed.txt dentro de la carpeta lorem.\n",
    "(Select-String /lorem/at.txt\" -Pattern 'et' | Measure-Object -Line).Lines"
   ]
  },
  {
   "cell_type": "markdown",
   "id": "09b9c828",
   "metadata": {},
   "source": [
    "17#Cuenta el número de archivos que empiezan por lorem que están en este directorio y en directorios internos.\n",
    "Get-ChildItem  .  \"lorem*\" | Measure-Object | Count"
   ]
  },
  {
   "cell_type": "markdown",
   "id": "8542c713",
   "metadata": {},
   "source": [
    "18#Encuentra todas las apariciones de et en at.txt dentro de la carpeta lorem\n",
    " Select-String -Path .\\lorem\\at.txt -Pattern \"et\" -AllMatches | Select-Object -ExpandProperty Matches | Select-Object -ExpandProperty Value"
   ]
  },
  {
   "cell_type": "markdown",
   "id": "d3db17d8",
   "metadata": {},
   "source": [
    "19#Cuenta el número de apariciones del string et en at.txt dentro de la carpeta lorem\n",
    "Select-String -Path .\\lorem\\at.txt  \"et\" | Measure-Object | Select-Object  Count"
   ]
  },
  {
   "cell_type": "markdown",
   "id": "b85742be",
   "metadata": {},
   "source": [
    "20#Cuenta el número de apariciones del string et en todos los archivos del directorio lorem-copy.\n",
    "Get-ChildItem -Recurse *.txt | Select-String  \"et\" | Measure-Object"
   ]
  },
  {
   "cell_type": "code",
   "execution_count": null,
   "id": "f62758e0",
   "metadata": {},
   "outputs": [],
   "source": []
  }
 ],
 "metadata": {
  "kernelspec": {
   "display_name": "Python 3 (ipykernel)",
   "language": "python",
   "name": "python3"
  },
  "language_info": {
   "codemirror_mode": {
    "name": "ipython",
    "version": 3
   },
   "file_extension": ".py",
   "mimetype": "text/x-python",
   "name": "python",
   "nbconvert_exporter": "python",
   "pygments_lexer": "ipython3",
   "version": "3.9.13"
  }
 },
 "nbformat": 4,
 "nbformat_minor": 5
}
