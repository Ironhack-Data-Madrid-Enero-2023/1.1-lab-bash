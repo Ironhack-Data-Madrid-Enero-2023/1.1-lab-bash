{
 "cells": [
  {
   "cell_type": "code",
   "execution_count": 2,
   "id": "36f396c6",
   "metadata": {},
   "outputs": [
    {
     "ename": "SyntaxError",
     "evalue": "invalid syntax (2304595451.py, line 1)",
     "output_type": "error",
     "traceback": [
      "\u001b[1;36m  File \u001b[1;32m\"C:\\Users\\jelsa\\AppData\\Local\\Temp\\ipykernel_10700\\2304595451.py\"\u001b[1;36m, line \u001b[1;32m1\u001b[0m\n\u001b[1;33m    Imprime en consola Hello World\u001b[0m\n\u001b[1;37m            ^\u001b[0m\n\u001b[1;31mSyntaxError\u001b[0m\u001b[1;31m:\u001b[0m invalid syntax\n"
     ]
    }
   ],
   "source": [
    "Imprime en consola Hello World\n"
   ]
  },
  {
   "cell_type": "code",
   "execution_count": null,
   "id": "0433d44e",
   "metadata": {},
   "outputs": [],
   "source": [
    "echo hello world"
   ]
  },
  {
   "cell_type": "code",
   "execution_count": null,
   "id": "98a2e33c",
   "metadata": {},
   "outputs": [],
   "source": [
    "Crea un directorio nuevo llamado new_dir"
   ]
  },
  {
   "cell_type": "code",
   "execution_count": null,
   "id": "5d6a2bb4",
   "metadata": {},
   "outputs": [],
   "source": [
    "mkdir new_dir"
   ]
  },
  {
   "cell_type": "code",
   "execution_count": null,
   "id": "b483c718",
   "metadata": {},
   "outputs": [],
   "source": [
    "Elimina ese directorio."
   ]
  },
  {
   "cell_type": "code",
   "execution_count": null,
   "id": "d70f4241",
   "metadata": {},
   "outputs": [],
   "source": [
    "rm -r new_dir"
   ]
  },
  {
   "cell_type": "code",
   "execution_count": null,
   "id": "20b25c08",
   "metadata": {},
   "outputs": [],
   "source": [
    "Copia el archivo sed.txt dentro de la carpeta lorem a la carpeta lorem-copy. TIP: Puede ser necesario crear la carpeta lorem-copy primero."
   ]
  },
  {
   "cell_type": "code",
   "execution_count": null,
   "id": "fa4d4292",
   "metadata": {},
   "outputs": [],
   "source": [
    "mkdir lorem-copy"
   ]
  },
  {
   "cell_type": "code",
   "execution_count": null,
   "id": "f1016d75",
   "metadata": {},
   "outputs": [],
   "source": [
    "Copia los otros dos archivos de la carpeta lorem a la carpeta lorem-copy en una sola línea"
   ]
  },
  {
   "cell_type": "code",
   "execution_count": null,
   "id": "eba00375",
   "metadata": {},
   "outputs": [],
   "source": [
    "cp sed.txt ../lorem-copy"
   ]
  },
  {
   "cell_type": "code",
   "execution_count": null,
   "id": "90fe8355",
   "metadata": {},
   "outputs": [],
   "source": [
    "Muestra el contenido de los archivos at.txt y lorem.txt dentro de la carpeta lorem."
   ]
  },
  {
   "cell_type": "code",
   "execution_count": null,
   "id": "5e9724bc",
   "metadata": {},
   "outputs": [],
   "source": [
    "\n",
    "cp at.txt ../lorem-copy"
   ]
  },
  {
   "cell_type": "code",
   "execution_count": null,
   "id": "6220cf73",
   "metadata": {},
   "outputs": [],
   "source": [
    "Muestra el contenido del archivo sed.txt dentro de la carpeta lorem"
   ]
  },
  {
   "cell_type": "code",
   "execution_count": null,
   "id": "b84ec3cf",
   "metadata": {},
   "outputs": [],
   "source": [
    "cat sed.txt"
   ]
  },
  {
   "cell_type": "code",
   "execution_count": null,
   "id": "b5c75121",
   "metadata": {},
   "outputs": [],
   "source": [
    "Muestra el contenido de los archivos at.txt y lorem.txt dentro de la carpeta lorem."
   ]
  },
  {
   "cell_type": "code",
   "execution_count": null,
   "id": "6a5572d9",
   "metadata": {},
   "outputs": [],
   "source": [
    "cat at.txt  cat lorem.txt\n",
    "\n"
   ]
  },
  {
   "cell_type": "code",
   "execution_count": null,
   "id": "163f3e40",
   "metadata": {},
   "outputs": [],
   "source": [
    "Visualiza las primeras 3 líneas del archivo sed.txt dentro de la carpeta lorem-copy"
   ]
  },
  {
   "cell_type": "code",
   "execution_count": null,
   "id": "618381c1",
   "metadata": {},
   "outputs": [],
   "source": [
    "\n",
    "head sed.txt -n3 "
   ]
  },
  {
   "cell_type": "code",
   "execution_count": null,
   "id": "cd4bc4d9",
   "metadata": {},
   "outputs": [],
   "source": [
    "Visualiza las últimas 3 líneas del archivo sed.txt dentro de la carpeta lorem-copy. Deberías ver ahora Homo homini lupus.."
   ]
  },
  {
   "cell_type": "code",
   "execution_count": null,
   "id": "20de515b",
   "metadata": {},
   "outputs": [],
   "source": [
    "tail -n3 sed.txt"
   ]
  },
  {
   "cell_type": "code",
   "execution_count": null,
   "id": "79b04598",
   "metadata": {},
   "outputs": [],
   "source": [
    "Añade Homo homini lupus. al final de archivo sed.txt dentro de la carpeta lorem-copy"
   ]
  },
  {
   "cell_type": "code",
   "execution_count": null,
   "id": "5ab4e8ad",
   "metadata": {},
   "outputs": [],
   "source": [
    "cd lorem-copy\n",
    "sed.txt\n",
    "echo homo homini lupus"
   ]
  },
  {
   "cell_type": "code",
   "execution_count": null,
   "id": "cd6cd271",
   "metadata": {},
   "outputs": [],
   "source": [
    "Visualiza las últimas 3 líneas del archivo sed.txt dentro de la carpeta lorem-copy. Deberías ver ahora Homo homini lupus."
   ]
  },
  {
   "cell_type": "code",
   "execution_count": 5,
   "id": "6a9071fc",
   "metadata": {},
   "outputs": [
    {
     "ename": "SyntaxError",
     "evalue": "invalid syntax (2932991610.py, line 1)",
     "output_type": "error",
     "traceback": [
      "\u001b[1;36m  File \u001b[1;32m\"C:\\Users\\jelsa\\AppData\\Local\\Temp\\ipykernel_10700\\2932991610.py\"\u001b[1;36m, line \u001b[1;32m1\u001b[0m\n\u001b[1;33m    tail -n 3 sed.txt\u001b[0m\n\u001b[1;37m            ^\u001b[0m\n\u001b[1;31mSyntaxError\u001b[0m\u001b[1;31m:\u001b[0m invalid syntax\n"
     ]
    }
   ],
   "source": [
    "tail -n 3 sed.txt"
   ]
  },
  {
   "cell_type": "code",
   "execution_count": 4,
   "id": "8a3cc643",
   "metadata": {},
   "outputs": [
    {
     "ename": "SyntaxError",
     "evalue": "invalid syntax (4249016168.py, line 1)",
     "output_type": "error",
     "traceback": [
      "\u001b[1;36m  File \u001b[1;32m\"C:\\Users\\jelsa\\AppData\\Local\\Temp\\ipykernel_10700\\4249016168.py\"\u001b[1;36m, line \u001b[1;32m1\u001b[0m\n\u001b[1;33m    Sustituye todas las apariciones de et por ET del archivo at.txt dentro de la carpeta lorem-copy. Deberás usar sed.\u001b[0m\n\u001b[1;37m              ^\u001b[0m\n\u001b[1;31mSyntaxError\u001b[0m\u001b[1;31m:\u001b[0m invalid syntax\n"
     ]
    }
   ],
   "source": [
    "Sustituye todas las apariciones de et por ET del archivo at.txt dentro de la carpeta lorem-copy. Deberás usar sed."
   ]
  },
  {
   "cell_type": "code",
   "execution_count": null,
   "id": "0377b7bc",
   "metadata": {},
   "outputs": [],
   "source": [
    " sed s/et/ET/g"
   ]
  },
  {
   "cell_type": "code",
   "execution_count": null,
   "id": "8a1d36ba",
   "metadata": {},
   "outputs": [],
   "source": [
    "Encuentra al usuario activo en el sistema"
   ]
  },
  {
   "cell_type": "code",
   "execution_count": null,
   "id": "3d041f5e",
   "metadata": {},
   "outputs": [],
   "source": [
    "who"
   ]
  },
  {
   "cell_type": "code",
   "execution_count": null,
   "id": "6aadc2bf",
   "metadata": {},
   "outputs": [],
   "source": [
    "Encuentra dónde estás en tu sistema de ficheros."
   ]
  },
  {
   "cell_type": "code",
   "execution_count": null,
   "id": "517235c4",
   "metadata": {},
   "outputs": [],
   "source": [
    "pwd"
   ]
  },
  {
   "cell_type": "code",
   "execution_count": null,
   "id": "a3fdd46c",
   "metadata": {},
   "outputs": [],
   "source": [
    "Lista los archivos que terminan por .txt en la carpeta lorem."
   ]
  },
  {
   "cell_type": "code",
   "execution_count": null,
   "id": "00827e6b",
   "metadata": {},
   "outputs": [],
   "source": [
    "ls "
   ]
  },
  {
   "cell_type": "code",
   "execution_count": null,
   "id": "3bca1f8d",
   "metadata": {},
   "outputs": [],
   "source": [
    "Cuenta el número de líneas que tiene el archivo sed.txt dentro de la carpeta lorem."
   ]
  },
  {
   "cell_type": "code",
   "execution_count": null,
   "id": "6dc1c041",
   "metadata": {},
   "outputs": [],
   "source": [
    "\"wc-l\""
   ]
  },
  {
   "cell_type": "code",
   "execution_count": null,
   "id": "e6d90c62",
   "metadata": {},
   "outputs": [],
   "source": [
    "Cuenta el número de archivos que empiezan por lorem que están en este directorio y en directorios internos."
   ]
  },
  {
   "cell_type": "code",
   "execution_count": null,
   "id": "c6a82068",
   "metadata": {},
   "outputs": [],
   "source": [
    "\"ls|wc-l\""
   ]
  },
  {
   "cell_type": "code",
   "execution_count": null,
   "id": "242b025e",
   "metadata": {},
   "outputs": [],
   "source": [
    "Encuentra todas las apariciones de et en at.txt dentro de la carpeta lorem."
   ]
  },
  {
   "cell_type": "code",
   "execution_count": null,
   "id": "250078ac",
   "metadata": {},
   "outputs": [],
   "source": [
    "grep -r \"et\" ./lorem/at.txt\n"
   ]
  },
  {
   "cell_type": "code",
   "execution_count": null,
   "id": "7a6e1bda",
   "metadata": {},
   "outputs": [],
   "source": [
    "Cuenta el número de apariciones del string et en at.txt dentro de la carpeta lorem."
   ]
  },
  {
   "cell_type": "code",
   "execution_count": null,
   "id": "2d9230c8",
   "metadata": {},
   "outputs": [],
   "source": [
    "\"grep -o et at.txt | wc -l\""
   ]
  },
  {
   "cell_type": "code",
   "execution_count": null,
   "id": "b0be2113",
   "metadata": {},
   "outputs": [],
   "source": []
  },
  {
   "cell_type": "code",
   "execution_count": null,
   "id": "485fb02c",
   "metadata": {},
   "outputs": [],
   "source": [
    "Almacena en una variable name tu nombre."
   ]
  },
  {
   "cell_type": "code",
   "execution_count": null,
   "id": "7792d681",
   "metadata": {},
   "outputs": [],
   "source": [
    "\"echo name\""
   ]
  },
  {
   "cell_type": "code",
   "execution_count": null,
   "id": "26284ba1",
   "metadata": {},
   "outputs": [],
   "source": [
    "Imprime esa variable"
   ]
  },
  {
   "cell_type": "code",
   "execution_count": null,
   "id": "8e32c939",
   "metadata": {},
   "outputs": [],
   "source": []
  },
  {
   "cell_type": "code",
   "execution_count": null,
   "id": "bec490aa",
   "metadata": {},
   "outputs": [],
   "source": []
  },
  {
   "cell_type": "code",
   "execution_count": null,
   "id": "52942228",
   "metadata": {},
   "outputs": [],
   "source": []
  },
  {
   "cell_type": "code",
   "execution_count": null,
   "id": "c7f0301b",
   "metadata": {},
   "outputs": [],
   "source": []
  },
  {
   "cell_type": "code",
   "execution_count": null,
   "id": "e704276a",
   "metadata": {},
   "outputs": [],
   "source": []
  }
 ],
 "metadata": {
  "kernelspec": {
   "display_name": "Python 3 (ipykernel)",
   "language": "python",
   "name": "python3"
  },
  "language_info": {
   "codemirror_mode": {
    "name": "ipython",
    "version": 3
   },
   "file_extension": ".py",
   "mimetype": "text/x-python",
   "name": "python",
   "nbconvert_exporter": "python",
   "pygments_lexer": "ipython3",
   "version": "3.9.13"
  }
 },
 "nbformat": 4,
 "nbformat_minor": 5
}
