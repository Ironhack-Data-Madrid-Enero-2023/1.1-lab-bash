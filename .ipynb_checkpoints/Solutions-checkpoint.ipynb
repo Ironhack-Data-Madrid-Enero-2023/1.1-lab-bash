{
 "cells": [
  {
   "cell_type": "code",
   "execution_count": null,
   "id": "ce63e8bc",
   "metadata": {},
   "outputs": [],
   "source": [
    "EJERCICIOS"
   ]
  },
  {
   "cell_type": "code",
   "execution_count": null,
   "id": "ddf1e9e3",
   "metadata": {},
   "outputs": [],
   "source": [
    "1. Imprime en consola Hello World."
   ]
  },
  {
   "cell_type": "code",
   "execution_count": null,
   "id": "5a0fbdbd",
   "metadata": {},
   "outputs": [],
   "source": [
    "echo Hello World"
   ]
  },
  {
   "cell_type": "code",
   "execution_count": null,
   "id": "9c8108bd",
   "metadata": {},
   "outputs": [],
   "source": [
    "2. Crea un directorio nuevo llamado new_dir"
   ]
  },
  {
   "cell_type": "code",
   "execution_count": null,
   "id": "02175b08",
   "metadata": {},
   "outputs": [],
   "source": [
    "mkdir new_dir"
   ]
  },
  {
   "cell_type": "code",
   "execution_count": null,
   "id": "7ce5d24e",
   "metadata": {},
   "outputs": [],
   "source": [
    "3. Elimina ese directorio."
   ]
  },
  {
   "cell_type": "code",
   "execution_count": null,
   "id": "718ca9e1",
   "metadata": {},
   "outputs": [],
   "source": [
    "rm -r new_dir"
   ]
  },
  {
   "cell_type": "code",
   "execution_count": null,
   "id": "423a609a",
   "metadata": {},
   "outputs": [],
   "source": [
    "4. Copia el archivo sed.txt dentro de la carpeta lorem a la carpeta lorem-copy. \n",
    "TIP: Puede ser necesario crear la carpeta lorem-copy primero."
   ]
  },
  {
   "cell_type": "code",
   "execution_count": null,
   "id": "09880f60",
   "metadata": {},
   "outputs": [],
   "source": [
    "mkdir lorem-copy\n",
    "cp sed.txt ../lorem-copy"
   ]
  },
  {
   "cell_type": "code",
   "execution_count": null,
   "id": "96678bfc",
   "metadata": {},
   "outputs": [],
   "source": [
    "5. Copia los otros dos archivos de la carpeta lorem a la carpeta lorem-copy en una sola línea."
   ]
  },
  {
   "cell_type": "code",
   "execution_count": null,
   "id": "393d2158",
   "metadata": {},
   "outputs": [],
   "source": [
    "cp at.txt lorem.txt ../lorem-copy"
   ]
  },
  {
   "cell_type": "code",
   "execution_count": null,
   "id": "540cc4f2",
   "metadata": {},
   "outputs": [],
   "source": [
    "6. Muestra el contenido del archivo sed.txt dentro de la carpeta lorem"
   ]
  },
  {
   "cell_type": "code",
   "execution_count": null,
   "id": "4f1594ff",
   "metadata": {},
   "outputs": [],
   "source": [
    "cat sed.txt"
   ]
  },
  {
   "cell_type": "code",
   "execution_count": null,
   "id": "1d0fdd4e",
   "metadata": {},
   "outputs": [],
   "source": [
    "7. Muestra el contenido de los archivos at.txt y lorem.txt dentro de la carpeta lorem."
   ]
  },
  {
   "cell_type": "code",
   "execution_count": null,
   "id": "4e1636a2",
   "metadata": {},
   "outputs": [],
   "source": [
    "cat at.txt lorem.txt"
   ]
  },
  {
   "cell_type": "code",
   "execution_count": null,
   "id": "6f943440",
   "metadata": {},
   "outputs": [],
   "source": [
    "8. Visualiza las primeras 3 líneas del archivo sed.txt dentro de la carpeta lorem-copy"
   ]
  },
  {
   "cell_type": "code",
   "execution_count": null,
   "id": "d6e030bc",
   "metadata": {},
   "outputs": [],
   "source": [
    "cd ..\n",
    "cd lorem-copy\n",
    "head sed.txt"
   ]
  },
  {
   "cell_type": "code",
   "execution_count": null,
   "id": "d7a54313",
   "metadata": {},
   "outputs": [],
   "source": [
    "9. Visualiza las ultimas 3 líneas del archivo sed.txt dentro de la carpeta lorem-copy"
   ]
  },
  {
   "cell_type": "code",
   "execution_count": null,
   "id": "4e742762",
   "metadata": {},
   "outputs": [],
   "source": [
    "tail sed.txt"
   ]
  },
  {
   "cell_type": "code",
   "execution_count": null,
   "id": "742cf85e",
   "metadata": {},
   "outputs": [],
   "source": [
    "10. Añade Homo homini lupus. al final de archivo sed.txt dentro de la carpeta lorem-copy."
   ]
  },
  {
   "cell_type": "code",
   "execution_count": null,
   "id": "6a1306c0",
   "metadata": {},
   "outputs": [],
   "source": [
    "echo  Homo homini lupus >> sed.txt"
   ]
  },
  {
   "cell_type": "code",
   "execution_count": null,
   "id": "1e9fbb6f",
   "metadata": {},
   "outputs": [],
   "source": [
    "11. Visualiza las últimas 3 líneas del archivo sed.txt dentro de la carpeta lorem-copy. \n",
    "Deberías ver ahora Homo homini lupus.."
   ]
  },
  {
   "cell_type": "code",
   "execution_count": null,
   "id": "afe9bd7c",
   "metadata": {},
   "outputs": [],
   "source": [
    "tail sed.txt"
   ]
  },
  {
   "cell_type": "code",
   "execution_count": null,
   "id": "c5b7b625",
   "metadata": {},
   "outputs": [],
   "source": [
    "12. Sustituye todas las apariciones de et por ET del archivo at.txt dentro de la carpeta lorem-copy. \n",
    "Deberás usar sed."
   ]
  },
  {
   "cell_type": "code",
   "execution_count": null,
   "id": "186636bc",
   "metadata": {},
   "outputs": [],
   "source": [
    "sed 's/et/ET/g' at.txt"
   ]
  },
  {
   "cell_type": "code",
   "execution_count": null,
   "id": "7b9b1bdc",
   "metadata": {},
   "outputs": [],
   "source": [
    "13. Encuentra al usuario activo en el sistema."
   ]
  },
  {
   "cell_type": "code",
   "execution_count": null,
   "id": "0a64fd26",
   "metadata": {},
   "outputs": [],
   "source": [
    "whoami"
   ]
  },
  {
   "cell_type": "code",
   "execution_count": null,
   "id": "b8be8ab7",
   "metadata": {},
   "outputs": [],
   "source": [
    "14. Encuentra dónde estás en tu sistema de ficheros."
   ]
  },
  {
   "cell_type": "code",
   "execution_count": null,
   "id": "f5c0c4a6",
   "metadata": {},
   "outputs": [],
   "source": [
    "pwd"
   ]
  },
  {
   "cell_type": "code",
   "execution_count": null,
   "id": "d75bac11",
   "metadata": {},
   "outputs": [],
   "source": [
    "15. Lista los archivos que terminan por .txt en la carpeta lorem."
   ]
  },
  {
   "cell_type": "code",
   "execution_count": null,
   "id": "89a3a51f",
   "metadata": {},
   "outputs": [],
   "source": [
    "cd ..\n",
    "cd lorem\n",
    "ls *.txt"
   ]
  },
  {
   "cell_type": "code",
   "execution_count": null,
   "id": "57467253",
   "metadata": {},
   "outputs": [],
   "source": [
    "16. Cuenta el número de líneas que tiene el archivo sed.txt dentro de la carpeta lorem."
   ]
  },
  {
   "cell_type": "code",
   "execution_count": null,
   "id": "b1ada9c7",
   "metadata": {},
   "outputs": [],
   "source": [
    "wc -l sed.txt"
   ]
  },
  {
   "cell_type": "code",
   "execution_count": null,
   "id": "c416693f",
   "metadata": {},
   "outputs": [],
   "source": [
    "17. Cuenta el número de archivos que empiezan por lorem que están en este directorio y en directorios internos."
   ]
  },
  {
   "cell_type": "code",
   "execution_count": null,
   "id": "ff540cf2",
   "metadata": {},
   "outputs": [],
   "source": [
    "ls -1 lorem* | wc -l"
   ]
  },
  {
   "cell_type": "code",
   "execution_count": null,
   "id": "e5cf5ba7",
   "metadata": {},
   "outputs": [],
   "source": [
    "18. Encuentra todas las apariciones de et en at.txt dentro de la carpeta lorem."
   ]
  },
  {
   "cell_type": "code",
   "execution_count": null,
   "id": "64d1d045",
   "metadata": {},
   "outputs": [],
   "source": [
    "grep -o et at.txt"
   ]
  },
  {
   "cell_type": "code",
   "execution_count": null,
   "id": "deb97866",
   "metadata": {},
   "outputs": [],
   "source": [
    "19. Cuenta el número de apariciones del string et en at.txt dentro de la carpeta lorem."
   ]
  },
  {
   "cell_type": "code",
   "execution_count": null,
   "id": "fb58d119",
   "metadata": {},
   "outputs": [],
   "source": [
    "grep -c et at.txt"
   ]
  },
  {
   "cell_type": "code",
   "execution_count": null,
   "id": "fbeb32be",
   "metadata": {},
   "outputs": [],
   "source": [
    "20. Cuenta el número de apariciones del string et en todos los archivos del directorio lorem-copy."
   ]
  },
  {
   "cell_type": "code",
   "execution_count": null,
   "id": "75801e8c",
   "metadata": {},
   "outputs": [],
   "source": [
    "grep -r -c et lorem-copy"
   ]
  },
  {
   "cell_type": "code",
   "execution_count": null,
   "id": "0750109a",
   "metadata": {},
   "outputs": [],
   "source": [
    "FICHEROS BASH"
   ]
  },
  {
   "cell_type": "code",
   "execution_count": null,
   "id": "93804b98",
   "metadata": {},
   "outputs": [],
   "source": [
    "touch list_files.sh\n",
    "echo ls >> list_files.sh\n",
    "bash list_files.sh"
   ]
  },
  {
   "cell_type": "code",
   "execution_count": null,
   "id": "f7718fe0",
   "metadata": {},
   "outputs": [],
   "source": [
    "BONUS"
   ]
  },
  {
   "cell_type": "code",
   "execution_count": null,
   "id": "3eb9d218",
   "metadata": {},
   "outputs": [],
   "source": [
    "1. Almacena en una variable name tu nombre."
   ]
  },
  {
   "cell_type": "code",
   "execution_count": null,
   "id": "0c0f47ab",
   "metadata": {},
   "outputs": [],
   "source": [
    "name=Pedro"
   ]
  },
  {
   "cell_type": "code",
   "execution_count": null,
   "id": "d05bcaca",
   "metadata": {},
   "outputs": [],
   "source": [
    "2. Imprime esa variable."
   ]
  },
  {
   "cell_type": "code",
   "execution_count": null,
   "id": "c4442025",
   "metadata": {},
   "outputs": [],
   "source": [
    "echo $name"
   ]
  },
  {
   "cell_type": "code",
   "execution_count": null,
   "id": "6ed7b840",
   "metadata": {},
   "outputs": [],
   "source": [
    "3. Crea un directorio nuevo que se llame como el contenido de la variable name."
   ]
  },
  {
   "cell_type": "code",
   "execution_count": null,
   "id": "2c6682d8",
   "metadata": {},
   "outputs": [],
   "source": [
    "mkdir $name"
   ]
  },
  {
   "cell_type": "code",
   "execution_count": null,
   "id": "4da187da",
   "metadata": {},
   "outputs": [],
   "source": [
    "4. Elimina ese directorio."
   ]
  },
  {
   "cell_type": "code",
   "execution_count": null,
   "id": "c40f2238",
   "metadata": {},
   "outputs": [],
   "source": [
    "rm -r $name"
   ]
  },
  {
   "cell_type": "code",
   "execution_count": null,
   "id": "3a221cc4",
   "metadata": {},
   "outputs": [],
   "source": [
    "5. Muestra los procesos de forma jerárquica que se están ejecutando en tu ordenador:\n",
    "\n",
    "Usando el comando top o htop\n",
    "Usando el comando ps con argumentos"
   ]
  },
  {
   "cell_type": "code",
   "execution_count": null,
   "id": "8d54a1fb",
   "metadata": {},
   "outputs": [],
   "source": [
    "\n",
    "ps -ef\n",
    "ps -u\n",
    "ps -aux"
   ]
  },
  {
   "cell_type": "code",
   "execution_count": null,
   "id": "62b108eb",
   "metadata": {},
   "outputs": [],
   "source": [
    "6. Muestra información sobre tu procesador por pantalla"
   ]
  },
  {
   "cell_type": "code",
   "execution_count": null,
   "id": "f9fce139",
   "metadata": {},
   "outputs": [],
   "source": [
    "top"
   ]
  },
  {
   "cell_type": "code",
   "execution_count": null,
   "id": "858f20e0",
   "metadata": {},
   "outputs": [],
   "source": [
    "7. Crea 3 alias y haz que estén disponibles cada vez que inicias sesión"
   ]
  },
  {
   "cell_type": "code",
   "execution_count": null,
   "id": "592944ae",
   "metadata": {},
   "outputs": [],
   "source": []
  },
  {
   "cell_type": "code",
   "execution_count": null,
   "id": "99bfd491",
   "metadata": {},
   "outputs": [],
   "source": [
    "8. Comprime las carpetas lorem y lorem-copy en un archivo llamado lorem-compressed.tar.gz"
   ]
  },
  {
   "cell_type": "code",
   "execution_count": null,
   "id": "0e3ebbea",
   "metadata": {},
   "outputs": [],
   "source": [
    "zip -r lorem-compressed.tar.gz lorem lorem-copy"
   ]
  },
  {
   "cell_type": "code",
   "execution_count": null,
   "id": "47990a01",
   "metadata": {},
   "outputs": [],
   "source": [
    "9. Descomprime el archivo lorem-compressed.tar.gz en la carpeta lorem-uncompressed"
   ]
  },
  {
   "cell_type": "code",
   "execution_count": null,
   "id": "e9f8771e",
   "metadata": {},
   "outputs": [],
   "source": [
    "unzip lorem-compressed.tar.gz"
   ]
  },
  {
   "cell_type": "code",
   "execution_count": null,
   "id": "2201e662",
   "metadata": {},
   "outputs": [],
   "source": [
    "10. Crea un script bash para imprimir los numeros de 1 a 100."
   ]
  },
  {
   "cell_type": "code",
   "execution_count": null,
   "id": "04d35e39",
   "metadata": {},
   "outputs": [],
   "source": [
    "for i {1..100}\n",
    "do\n",
    "    echo $i\n",
    "done"
   ]
  }
 ],
 "metadata": {
  "kernelspec": {
   "display_name": "Python 3 (ipykernel)",
   "language": "python",
   "name": "python3"
  },
  "language_info": {
   "codemirror_mode": {
    "name": "ipython",
    "version": 3
   },
   "file_extension": ".py",
   "mimetype": "text/x-python",
   "name": "python",
   "nbconvert_exporter": "python",
   "pygments_lexer": "ipython3",
   "version": "3.9.13"
  }
 },
 "nbformat": 4,
 "nbformat_minor": 5
}
